{
 "cells": [
  {
   "cell_type": "markdown",
   "metadata": {},
   "source": [
    "*Thanks to Hannah Burkhardt for coding this during our session*"
   ]
  },
  {
   "cell_type": "markdown",
   "metadata": {},
   "source": [
    "# Tutorial"
   ]
  },
  {
   "cell_type": "markdown",
   "metadata": {},
   "source": [
    "**Define use case for calculator**\n",
    "\n",
    "\n",
    "**Define Functional requirements**  \n",
    "Step 1 - Define required clinical data elements  \n",
    "- ?\n",
    "    \n",
    "  \n",
    "Step 2 - Identify FHIR Resources to support use case data (http://hl7.org/fhir/resourcelist.html)\n",
    "- ?\n",
    "\n",
    "Step 3 - Identify data elements within each FHIR Resource definition necessary to support use case data\n"
   ]
  },
  {
   "cell_type": "markdown",
   "metadata": {},
   "source": [
    "## Initialize the environment to run the application"
   ]
  },
  {
   "cell_type": "code",
   "execution_count": 24,
   "metadata": {
    "ExecuteTime": {
     "end_time": "2020-09-09T23:41:56.969975Z",
     "start_time": "2020-09-09T23:41:56.585832Z"
    }
   },
   "outputs": [
    {
     "name": "stdout",
     "output_type": "stream",
     "text": [
      "FHIR client library has been loaded\n",
      "Reading patient, please wait...\n",
      "Done!\n"
     ]
    }
   ],
   "source": [
    "from fhirclient import client\n",
    "import datetime\n",
    "from datetime import timedelta\n",
    "from datetime import date\n",
    "from dateutil.relativedelta import relativedelta\n",
    "import requests\n",
    "import json\n",
    "print('FHIR client library has been loaded')\n",
    "#load the Patient from the database, and display demographics\n",
    "from dateutil.relativedelta import relativedelta  # a utility function for comparing dates\n",
    "import datetime\n",
    "# Define the FHIR Endpoint. We define the name of this app (used in SMART calls), and the location of the server\n",
    "settings = {\n",
    "    'app_id': 'my_web_app',\n",
    "    'api_base': 'https://hapi.fhir.org/baseR4'\n",
    "}\n",
    "db = client.FHIRClient(settings=settings)\n",
    "\n",
    "# Perform a GET (read) on the patient with an id of '431798' (a test patient we created)\n",
    "# We could also search on name or any other property to find the patient\n",
    "# Under the hood, a GET request is issued to the server, eg GET [server]/Patient/431798\n",
    "from fhirclient.models.patient import Patient\n",
    "print('Reading patient, please wait...')\n",
    "patient = Patient.read('431798', db.server)\n",
    "\n",
    "print('Done!')"
   ]
  },
  {
   "cell_type": "code",
   "execution_count": 25,
   "metadata": {
    "ExecuteTime": {
     "end_time": "2020-09-09T23:42:00.479352Z",
     "start_time": "2020-09-09T23:42:00.473906Z"
    }
   },
   "outputs": [],
   "source": [
    "from fhirclient.models.observation import Observation\n",
    "\n",
    "questionsWithAnswers = []\n",
    "def getPHQquestion(code):\n",
    "    search = Observation.where(struct={'patient':\"Patient/431798\",'code':code})\n",
    "\n",
    "    url = search.construct()\n",
    "    #print('Query: ', url)\n",
    "\n",
    "    result = search.perform_resources(db.server)\n",
    "    if (result is not None and len(result) > 0):\n",
    "        questionsWithAnswers.append((result[0].valueQuantity.value, result[0].code.coding[0].display))\n",
    "        print(questionsWithAnswers[-1][0], '\\t', questionsWithAnswers[-1][1])\n"
   ]
  },
  {
   "cell_type": "code",
   "execution_count": 22,
   "metadata": {
    "ExecuteTime": {
     "end_time": "2020-09-09T23:40:05.345768Z",
     "start_time": "2020-09-09T23:40:04.131350Z"
    }
   },
   "outputs": [],
   "source": [
    "# if needed, use this code to post PHQ-9 responses for your patient to the server\n",
    "# import random\n",
    "\n",
    "# data = [\n",
    "#     [\"44250-9\", \"Little interest or pleasure in doing things in last 2 weeks\"],\n",
    "#     [\"44255-8\", \"Feeling down, depressed, or hopeless in last 2 weeks\"],\n",
    "#     [\"44259-0\", \"Trouble falling or staying asleep, or sleeping too much in last 2 weeks\"],\n",
    "#     [\"44254-1\", \"Feeling tired or having little energy in last 2 weeks\"],\n",
    "#     [\"44251-7\", \"Poor appetite or overeating in last 2 weeks\"],\n",
    "#     [\"44258-2\", \"Feeling bad about yourself - or that you are a failure or have let yourself or your family down in last 2 weeks\"],\n",
    "#     [\"44252-5\", \"Trouble concentrating on things, such as reading the newspaper or watching television in last 2 weeks\"],\n",
    "#     [\"44253-3\", \"Moving or speaking so slowly that other people could have noticed. Or the opposite - being so fidgety or restless that you have been moving around a lot more than usual in last 2 weeks\"],\n",
    "#     [\"44260-8\", \"Thoughts that you would be better off dead, or of hurting yourself in some way in last 2 weeks\"]]\n",
    "# t = \"2020-08-01T18:20:26-08:00\"\n",
    "# for c, q in data:\n",
    "#     v = random.randint(0,5)\n",
    "#     Observation(jsondict={\n",
    "#         \"subject\": {\n",
    "#             \"reference\": \"Patient/431798\"\n",
    "#         },\n",
    "#         \"effectiveDateTime\": t,\n",
    "#         \"resourceType\": \"Observation\",\n",
    "#         \"code\": {\n",
    "#             \"coding\": [\n",
    "#                 {\n",
    "#                     \"display\": q,\n",
    "#                     \"code\": c,\n",
    "#                     \"system\": \"http://loinc.org\"\n",
    "#                 }\n",
    "#             ]\n",
    "#         },\n",
    "#         \"valueQuantity\": {\n",
    "#             \"value\": v\n",
    "#         },\n",
    "#         \"status\": \"final\"\n",
    "#     }).create(db.server)"
   ]
  },
  {
   "cell_type": "code",
   "execution_count": 26,
   "metadata": {
    "ExecuteTime": {
     "end_time": "2020-09-09T23:42:56.142092Z",
     "start_time": "2020-09-09T23:42:55.210337Z"
    }
   },
   "outputs": [
    {
     "name": "stdout",
     "output_type": "stream",
     "text": [
      "0 \t Little interest or pleasure in doing things in last 2 weeks\n",
      "0 \t Feeling down, depressed, or hopeless in last 2 weeks\n",
      "3 \t Trouble falling or staying asleep, or sleeping too much in last 2 weeks\n",
      "0 \t Feeling tired or having little energy in last 2 weeks\n",
      "2 \t Poor appetite or overeating in last 2 weeks\n",
      "3 \t Feeling bad about yourself - or that you are a failure or have let yourself or your family down in last 2 weeks\n",
      "3 \t Trouble concentrating on things, such as reading the newspaper or watching television in last 2 weeks\n",
      "2 \t Moving or speaking so slowly that other people could have noticed. Or the opposite - being so fidgety or restless that you have been moving around a lot more than usual in last 2 weeks\n",
      "5 \t Thoughts that you would be better off dead, or of hurting yourself in some way in last 2 weeks\n"
     ]
    }
   ],
   "source": [
    "getPHQquestion('44250-9')\n",
    "getPHQquestion('44255-8')\n",
    "getPHQquestion('44259-0')\n",
    "getPHQquestion('44254-1')\n",
    "\n",
    "getPHQquestion('44251-7')\n",
    "getPHQquestion('44258-2')\n",
    "getPHQquestion('44252-5')\n",
    "getPHQquestion('44253-3')\n",
    "\n",
    "getPHQquestion('44260-8')\n",
    "#getPHQquestion('44261-6')\n",
    "\n",
    "#getPHQquestion('69722-7')"
   ]
  },
  {
   "cell_type": "code",
   "execution_count": 27,
   "metadata": {
    "ExecuteTime": {
     "end_time": "2020-09-09T23:42:59.348893Z",
     "start_time": "2020-09-09T23:42:59.345795Z"
    }
   },
   "outputs": [
    {
     "name": "stdout",
     "output_type": "stream",
     "text": [
      "[(0, 'Little interest or pleasure in doing things in last 2 weeks'), (0, 'Feeling down, depressed, or hopeless in last 2 weeks'), (3, 'Trouble falling or staying asleep, or sleeping too much in last 2 weeks'), (0, 'Feeling tired or having little energy in last 2 weeks'), (2, 'Poor appetite or overeating in last 2 weeks'), (3, 'Feeling bad about yourself - or that you are a failure or have let yourself or your family down in last 2 weeks'), (3, 'Trouble concentrating on things, such as reading the newspaper or watching television in last 2 weeks'), (2, 'Moving or speaking so slowly that other people could have noticed. Or the opposite - being so fidgety or restless that you have been moving around a lot more than usual in last 2 weeks'), (5, 'Thoughts that you would be better off dead, or of hurting yourself in some way in last 2 weeks')]\n"
     ]
    }
   ],
   "source": [
    "print(questionsWithAnswers)"
   ]
  },
  {
   "cell_type": "code",
   "execution_count": 28,
   "metadata": {
    "ExecuteTime": {
     "end_time": "2020-09-09T23:43:03.268901Z",
     "start_time": "2020-09-09T23:43:03.263796Z"
    }
   },
   "outputs": [
    {
     "name": "stdout",
     "output_type": "stream",
     "text": [
      "score: 18\n",
      "category: moderately severe\n"
     ]
    }
   ],
   "source": [
    "score = 0\n",
    "for answer,question in questionsWithAnswers:\n",
    "    score += answer\n",
    "print(\"score:\", score)\n",
    "\n",
    "def categorizeScore(score):\n",
    "    if score <= 4:\n",
    "        return 'none'\n",
    "    elif score <= 9:\n",
    "        return 'mild'\n",
    "    elif score <= 14:\n",
    "        return 'moderate'\n",
    "    elif score <= 19:\n",
    "        return 'moderately severe'\n",
    "    else:\n",
    "        return 'severe'\n",
    "    \n",
    "print(\"category:\",categorizeScore(score))"
   ]
  }
 ],
 "metadata": {
  "anaconda-cloud": {},
  "kernelspec": {
   "display_name": "Python 3",
   "language": "python",
   "name": "python3"
  },
  "language_info": {
   "codemirror_mode": {
    "name": "ipython",
    "version": 3
   },
   "file_extension": ".py",
   "mimetype": "text/x-python",
   "name": "python",
   "nbconvert_exporter": "python",
   "pygments_lexer": "ipython3",
   "version": "3.7.7"
  },
  "toc": {
   "base_numbering": 1,
   "nav_menu": {},
   "number_sections": true,
   "sideBar": true,
   "skip_h1_title": false,
   "title_cell": "Table of Contents",
   "title_sidebar": "Contents",
   "toc_cell": false,
   "toc_position": {},
   "toc_section_display": true,
   "toc_window_display": false
  }
 },
 "nbformat": 4,
 "nbformat_minor": 1
}
