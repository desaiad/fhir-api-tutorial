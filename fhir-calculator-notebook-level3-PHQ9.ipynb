{
 "cells": [
  {
   "cell_type": "markdown",
   "metadata": {},
   "source": [
    "# Tutorial"
   ]
  },
  {
   "cell_type": "markdown",
   "metadata": {},
   "source": [
    "**Define use case for calculator**\n",
    "\n",
    "\n",
    "**Define Functional requirements**  \n",
    "Step 1 - Define required clinical data elements  \n",
    "- ?\n",
    "    \n",
    "  \n",
    "Step 2 - Identify FHIR Resources to support use case data (http://hl7.org/fhir/resourcelist.html)\n",
    "- ?\n",
    "\n",
    "Step 3 - Identify data elements within each FHIR Resource definition necessary to support use case data\n"
   ]
  },
  {
   "cell_type": "markdown",
   "metadata": {},
   "source": [
    "## Initialize the environment to run the application"
   ]
  },
  {
   "cell_type": "code",
   "execution_count": 2,
   "metadata": {},
   "outputs": [
    {
     "name": "stdout",
     "output_type": "stream",
     "text": [
      "FHIR client library has been loaded\n",
      "Reading patient, please wait...\n",
      "Done!\n"
     ]
    }
   ],
   "source": [
    "from fhirclient import client\n",
    "import datetime\n",
    "from datetime import timedelta\n",
    "from datetime import date\n",
    "from dateutil.relativedelta import relativedelta\n",
    "import requests\n",
    "import json\n",
    "print('FHIR client library has been loaded')\n",
    "#load the Patient from the database, and display demographics\n",
    "from dateutil.relativedelta import relativedelta  # a utility function for comparing dates\n",
    "import datetime\n",
    "# Define the FHIR Endpoint. We define the name of this app (used in SMART calls), and the location of the server\n",
    "settings = {\n",
    "    'app_id': 'my_web_app',\n",
    "    'api_base': 'https://fhirtest.uhn.ca/baseDstu3'\n",
    "}\n",
    "db = client.FHIRClient(settings=settings)\n",
    "\n",
    "# Perform a GET (read) on the patient with an id of '2789048' (a test patient we created)\n",
    "# We could also search on name or any other property to find the patient\n",
    "# Under the hood, a GET request is issued to the server, eg GET [server]/Patient/2789048\n",
    "import fhirclient.models.patient as p\n",
    "print('Reading patient, please wait...')\n",
    "patient = p.Patient.read('2789048', db.server)\n",
    "\n",
    "print('Done!')"
   ]
  },
  {
   "cell_type": "code",
   "execution_count": 25,
   "metadata": {},
   "outputs": [],
   "source": [
    "import fhirclient.models.observation as obs \n",
    "\n",
    "questionsWithAnswers = []\n",
    "def getPHQquestion(code):\n",
    "    search = obs.Observation.where(struct={'patient':\"Patient/2789048\",'code':code})\n",
    "\n",
    "    url = search.construct()\n",
    "    #print('Query: ', url)\n",
    "\n",
    "    result = search.perform_resources(db.server)\n",
    "    if (result is not None and len(result) > 0):\n",
    "        questionsWithAnswers.append((result[0].valueQuantity.value, result[0].code.coding[0].display))\n",
    "        print(questionsWithAnswers[-1][0], '\\t', questionsWithAnswers[-1][1])\n"
   ]
  },
  {
   "cell_type": "code",
   "execution_count": 26,
   "metadata": {},
   "outputs": [
    {
     "name": "stdout",
     "output_type": "stream",
     "text": [
      "2 \t Little interest or pleasure in doing things in last 2 weeks [Reported.PHQ]\n",
      "1 \t Feeling down, depressed, or hopeless in last 2 weeks [Reported.PHQ]\n",
      "3 \t Trouble falling or staying asleep, or sleeping too much in last 2 weeks [Reported.PHQ]\n",
      "3 \t Feeling tired or having little energy in last 2 weeks [Reported.PHQ]\n",
      "2 \t Poor appetite or overeating in last 2 weeks [Reported.PHQ]\n",
      "1 \t Feeling bad about yourself - or that you are a failure or have let yourself or your family down in last 2 weeks [Reported.PHQ]\n",
      "3 \t Trouble concentrating on things, such as reading the newspaper or watching television in last 2 weeks [Reported.PHQ]\n",
      "3 \t Moving or speaking so slowly that other people could have noticed. Or the opposite - being so fidgety or restless that you have been moving around a lot more than usual in last 2 weeks [Reported.PHQ]\n",
      "1 \t Thoughts that you would be better off dead, or of hurting yourself in some way in last 2 weeks [Reported.PHQ]\n"
     ]
    }
   ],
   "source": [
    "getPHQquestion('44250-9')\n",
    "getPHQquestion('44255-8')\n",
    "getPHQquestion('44259-0')\n",
    "getPHQquestion('44254-1')\n",
    "\n",
    "getPHQquestion('44251-7')\n",
    "getPHQquestion('44258-2')\n",
    "getPHQquestion('44252-5')\n",
    "getPHQquestion('44253-3')\n",
    "\n",
    "getPHQquestion('44260-8')\n",
    "#getPHQquestion('44261-6')\n",
    "\n",
    "#getPHQquestion('69722-7')"
   ]
  },
  {
   "cell_type": "code",
   "execution_count": 27,
   "metadata": {},
   "outputs": [
    {
     "name": "stdout",
     "output_type": "stream",
     "text": [
      "[(2, 'Little interest or pleasure in doing things in last 2 weeks [Reported.PHQ]'), (1, 'Feeling down, depressed, or hopeless in last 2 weeks [Reported.PHQ]'), (3, 'Trouble falling or staying asleep, or sleeping too much in last 2 weeks [Reported.PHQ]'), (3, 'Feeling tired or having little energy in last 2 weeks [Reported.PHQ]'), (2, 'Poor appetite or overeating in last 2 weeks [Reported.PHQ]'), (1, 'Feeling bad about yourself - or that you are a failure or have let yourself or your family down in last 2 weeks [Reported.PHQ]'), (3, 'Trouble concentrating on things, such as reading the newspaper or watching television in last 2 weeks [Reported.PHQ]'), (3, 'Moving or speaking so slowly that other people could have noticed. Or the opposite - being so fidgety or restless that you have been moving around a lot more than usual in last 2 weeks [Reported.PHQ]'), (1, 'Thoughts that you would be better off dead, or of hurting yourself in some way in last 2 weeks [Reported.PHQ]')]\n"
     ]
    }
   ],
   "source": [
    "print(questionsWithAnswers)"
   ]
  },
  {
   "cell_type": "code",
   "execution_count": 28,
   "metadata": {},
   "outputs": [
    {
     "name": "stdout",
     "output_type": "stream",
     "text": [
      "score: 19\n",
      "category: moderately severe\n"
     ]
    }
   ],
   "source": [
    "score = 0\n",
    "for answer,question in questionsWithAnswers:\n",
    "    score += answer\n",
    "print(\"score:\", score)\n",
    "\n",
    "def categorizeScore(score):\n",
    "    if score <= 4:\n",
    "        return 'none'\n",
    "    elif score <= 9:\n",
    "        return 'mild'\n",
    "    elif score <= 14:\n",
    "        return 'moderate'\n",
    "    elif score <= 19:\n",
    "        return 'moderately severe'\n",
    "    else:\n",
    "        return 'severe'\n",
    "    \n",
    "print(\"category:\",categorizeScore(score))"
   ]
  },
  {
   "cell_type": "markdown",
   "metadata": {},
   "source": [
    "## Find a patient with relevant variables"
   ]
  },
  {
   "cell_type": "markdown",
   "metadata": {},
   "source": [
    "*Hint: Use the URL https://fhirtest.uhn.ca/baseDstu3/ [resource]?code=[loinc]*"
   ]
  },
  {
   "cell_type": "markdown",
   "metadata": {},
   "source": [
    "## Load patient from database"
   ]
  },
  {
   "cell_type": "code",
   "execution_count": 3,
   "metadata": {
    "collapsed": true
   },
   "outputs": [],
   "source": [
    "# Define the FHIR Endpoint.\n"
   ]
  },
  {
   "cell_type": "code",
   "execution_count": 4,
   "metadata": {},
   "outputs": [],
   "source": [
    "# Create an 'instance' of the FHIR library that points to the FHIR server.\n"
   ]
  },
  {
   "cell_type": "code",
   "execution_count": 5,
   "metadata": {
    "collapsed": true
   },
   "outputs": [],
   "source": [
    "# Perform a GET (read) on the patient with the ID you identified earlier\n",
    "#    Then set your patient variable to use later\n",
    "\n"
   ]
  },
  {
   "cell_type": "markdown",
   "metadata": {},
   "source": [
    "## *Optional: get basic demographics*"
   ]
  },
  {
   "cell_type": "code",
   "execution_count": 6,
   "metadata": {
    "collapsed": true
   },
   "outputs": [],
   "source": [
    "# Pick any demographics you want and print them\n",
    "\n"
   ]
  },
  {
   "cell_type": "markdown",
   "metadata": {},
   "source": [
    "## Query database for relevant information"
   ]
  },
  {
   "cell_type": "code",
   "execution_count": 7,
   "metadata": {
    "collapsed": true
   },
   "outputs": [],
   "source": [
    "#Query database \n",
    "\n",
    "\n",
    "\n"
   ]
  },
  {
   "cell_type": "markdown",
   "metadata": {},
   "source": [
    "## Calculate"
   ]
  },
  {
   "cell_type": "code",
   "execution_count": 8,
   "metadata": {
    "collapsed": true
   },
   "outputs": [],
   "source": [
    "# Computations\n",
    "\n"
   ]
  },
  {
   "cell_type": "code",
   "execution_count": null,
   "metadata": {
    "collapsed": true
   },
   "outputs": [],
   "source": []
  }
 ],
 "metadata": {
  "anaconda-cloud": {},
  "kernelspec": {
   "display_name": "Python 3",
   "language": "python",
   "name": "python3"
  },
  "language_info": {
   "codemirror_mode": {
    "name": "ipython",
    "version": 3
   },
   "file_extension": ".py",
   "mimetype": "text/x-python",
   "name": "python",
   "nbconvert_exporter": "python",
   "pygments_lexer": "ipython3",
   "version": "3.6.5"
  }
 },
 "nbformat": 4,
 "nbformat_minor": 1
}
