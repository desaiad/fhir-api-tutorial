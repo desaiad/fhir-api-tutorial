{
 "cells": [
  {
   "cell_type": "markdown",
   "metadata": {},
   "source": [
    "*Thanks to Viet Nguyen MD for this book*\n",
    "\n",
    "\n",
    "**Use Case**\n",
    "As a physician, I want to calculate a patient's cardiovascular risk using the Framingham calculator based on LDL \n",
    "    (http://reference.medscape.com/calculator/framingham-coronary-risk-ldl)\n",
    "\n",
    "\n",
    "**Define Functional requirements**  \n",
    "Step 1 - Define required clinical data elements  \n",
    "- Patient Age  \n",
    "- Patient Gender  \n",
    "- LDL Cholesterol in mg/dL  \n",
    "- HDL Cholesterol in mg/dL  \n",
    "- Blood Pressure  \n",
    "- Diabetes  \n",
    "- Smoking Status  \n",
    "    \n",
    "    \n",
    "Step 2 - Identify FHIR Resources to support use case data (http://hl7.org/fhir/resourcelist.html)\n",
    "- Patient Age (http://hl7.org/fhir/patient.html) \n",
    "- Patient.birthDate minus today's date\n",
    "- Patient Gender - Patient.contact.gender\n",
    "- LDL Cholesterol in mg/dL - Observation resource (http://www.hl7.org/fhir/diagnosticreport-example-lipids.html)\n",
    "- HDL Cholesterol in mg/dL - Observation resource\n",
    "- Blood Pressure - Observation resource (http://hl7.org/fhir/observation-vitalsigns.html or http://www.hl7.org/fhir/observation-example-bloodpressure.html)\n",
    "- Diabetes - Condition resource (http://hl7.org/fhir/condition.html)\n",
    "- Smoking Status - Observation resource (http://hl7.org/fhir/us/core/2017Jan/ValueSet-us-core-observation-ccdasmokingstatus.html)\n",
    "    \n",
    "\n",
    "Step 3 - Identify data elements within each FHIR Resource definition necessary to support use case data\n"
   ]
  },
  {
   "cell_type": "markdown",
   "metadata": {},
   "source": [
    "## Initialize the environment to run the application"
   ]
  },
  {
   "cell_type": "code",
   "execution_count": 3,
   "metadata": {},
   "outputs": [
    {
     "name": "stdout",
     "output_type": "stream",
     "text": [
      "Requirement already satisfied: fhirclient in c:\\python37\\lib\\site-packages (3.2.0)\n",
      "Requirement already satisfied: isodate in c:\\python37\\lib\\site-packages (from fhirclient) (0.6.0)\n",
      "Requirement already satisfied: requests in c:\\python37\\lib\\site-packages (from fhirclient) (2.22.0)\n",
      "Requirement already satisfied: six in c:\\python37\\lib\\site-packages (from isodate->fhirclient) (1.14.0)\n",
      "Requirement already satisfied: idna<2.9,>=2.5 in c:\\python37\\lib\\site-packages (from requests->fhirclient) (2.8)\n",
      "Requirement already satisfied: urllib3!=1.25.0,!=1.25.1,<1.26,>=1.21.1 in c:\\python37\\lib\\site-packages (from requests->fhirclient) (1.25.8)\n",
      "Requirement already satisfied: certifi>=2017.4.17 in c:\\python37\\lib\\site-packages (from requests->fhirclient) (2019.11.28)\n",
      "Requirement already satisfied: chardet<3.1.0,>=3.0.2 in c:\\python37\\lib\\site-packages (from requests->fhirclient) (3.0.4)\n"
     ]
    }
   ],
   "source": [
    "# Install the Python FHIR client package in the current Jupyter kernel using pip\n",
    "#   Library location in github: https://github.com/smart-on-fhir/client-py\n",
    "import sys\n",
    "!{sys.executable} -m pip install fhirclient"
   ]
  },
  {
   "cell_type": "code",
   "execution_count": 4,
   "metadata": {},
   "outputs": [
    {
     "name": "stdout",
     "output_type": "stream",
     "text": [
      "FHIR client library has been loaded\n"
     ]
    }
   ],
   "source": [
    "#import the client library that understands how to make FHIR calls and interpret the results\n",
    "#we can then use it to interact with the server and manipulate the resources\n",
    "from fhirclient import client\n",
    "import datetime\n",
    "from datetime import timedelta\n",
    "from datetime import date\n",
    "from dateutil.relativedelta import relativedelta\n",
    "import requests\n",
    "import json\n",
    "print('FHIR client library has been loaded')"
   ]
  },
  {
   "cell_type": "markdown",
   "metadata": {},
   "source": [
    "## Load the data needed for the Framingham analysis"
   ]
  },
  {
   "cell_type": "code",
   "execution_count": 5,
   "metadata": {},
   "outputs": [],
   "source": [
    "#load the Patient from the database, and display demographics\n",
    "from dateutil.relativedelta import relativedelta  # a utility function for comparing dates\n",
    "import datetime\n",
    "# Define the FHIR Endpoint. We define the name of this app (used in SMART calls), and the location of the server\n",
    "settings = {\n",
    "    'app_id': 'my_web_app',\n",
    "    'api_base': 'http://hapi.fhir.org/baseStu3/'\n",
    "}"
   ]
  },
  {
   "cell_type": "code",
   "execution_count": 6,
   "metadata": {},
   "outputs": [],
   "source": [
    "# Create an 'instance' of the FHIR library that points to the FHIR server. We use this to make the calls.\n",
    "db = client.FHIRClient(settings=settings)"
   ]
  },
  {
   "cell_type": "code",
   "execution_count": 29,
   "metadata": {},
   "outputs": [
    {
     "name": "stdout",
     "output_type": "stream",
     "text": [
      "Reading patient, please wait...\n"
     ]
    }
   ],
   "source": [
    "# Perform a GET (read) on the patient with an id of 'cf-1495289345197' (a test patient we created)\n",
    "# We could also search on name or any other property to find the patient\n",
    "# Under the hood, a GET request is issued to the server, eg GET [server]/Patient/cf-1495289345197\n",
    "import fhirclient.models.patient as p\n",
    "print('Reading patient, please wait...')\n",
    "\n",
    "# patient = p.Patient.read('cf-1533147316668', db.server)\n",
    "\n",
    "search = p.Patient.where(struct={'identifier': 'https://github.com/synthetichealth/synthea|0166a3a8-2fa5-4ebb-a831-f03dc454f314'})\n",
    "patients = search.perform_resources(db.server)\n",
    "patient = patients[0]\n",
    "patient_id = patient.id\n"
   ]
  },
  {
   "cell_type": "code",
   "execution_count": 13,
   "metadata": {},
   "outputs": [
    {
     "name": "stdout",
     "output_type": "stream",
     "text": [
      "Patient's Name(s) =  Test954 Test821\n",
      "Patient's Name(s) =  Suzie954 Kuhn492\n"
     ]
    }
   ],
   "source": [
    "# Print the patient name. A Patient can have more than one name (ie Patient.name is multiple)\n",
    "for name in patient.name:\n",
    "    first_name = name.given[0]\n",
    "    last_name = name.family\n",
    "    print ('Patient\\'s Name(s) = ',first_name,last_name)"
   ]
  },
  {
   "cell_type": "code",
   "execution_count": 14,
   "metadata": {},
   "outputs": [
    {
     "name": "stdout",
     "output_type": "stream",
     "text": [
      "Gender =  male\n"
     ]
    }
   ],
   "source": [
    "# Print patient's gender (only 1 gender !)\n",
    "gender = patient.gender\n",
    "print ('Gender = ',gender)"
   ]
  },
  {
   "cell_type": "code",
   "execution_count": 15,
   "metadata": {},
   "outputs": [
    {
     "name": "stdout",
     "output_type": "stream",
     "text": [
      "DOB =  1968-06-20\n"
     ]
    }
   ],
   "source": [
    "# Define variable DOB as the patient's date of birth in a string format (so it can be displayed)\n",
    "DOB = patient.birthDate.isostring\n",
    "print ('DOB = ', DOB)"
   ]
  },
  {
   "cell_type": "code",
   "execution_count": 16,
   "metadata": {},
   "outputs": [
    {
     "name": "stdout",
     "output_type": "stream",
     "text": [
      "Today's Date =  2020-01-23 13:20:17.203569\n"
     ]
    }
   ],
   "source": [
    "# Define and print today variable. We'll use this for the age (coming up next)\n",
    "now = datetime.datetime.today()\n",
    "print ('Today\\'s Date = ', now)"
   ]
  },
  {
   "cell_type": "code",
   "execution_count": 17,
   "metadata": {},
   "outputs": [],
   "source": [
    "#now get the patients age using the relativedelta library function. Don't sweat the details!\n",
    "#Define DOB2 date object\n",
    "DOB2 = datetime.datetime.strptime(DOB, '%Y-%m-%d')"
   ]
  },
  {
   "cell_type": "code",
   "execution_count": 18,
   "metadata": {},
   "outputs": [
    {
     "name": "stdout",
     "output_type": "stream",
     "text": [
      "Patient's age =  51\n"
     ]
    }
   ],
   "source": [
    "# Calcuate patient's age using rdelta method of the dateutil module\n",
    "rdelta = relativedelta(now, DOB2)\n",
    "age=rdelta.years\n",
    "\n",
    "# print the years from the rdelta object\n",
    "print ('Patient\\'s age = ',age)"
   ]
  },
  {
   "cell_type": "code",
   "execution_count": 19,
   "metadata": {},
   "outputs": [
    {
     "name": "stdout",
     "output_type": "stream",
     "text": [
      "Patient's Name(s) =  Suzie954 Kuhn492\n",
      "Gender =  male\n",
      "DOB =  1968-06-20\n",
      "Today's Date =  2020-01-23 13:20:17.203569\n",
      "Patient's age =  51\n"
     ]
    }
   ],
   "source": [
    "#All of the above scripts could have been combined into a single cell\n",
    "#Below are all the print statements:\n",
    "print ('Patient\\'s Name(s) = ',first_name,last_name)\n",
    "print ('Gender = ',gender)\n",
    "print ('DOB = ', DOB)\n",
    "print ('Today\\'s Date = ', now)\n",
    "print ('Patient\\'s age = ',age)"
   ]
  },
  {
   "cell_type": "code",
   "execution_count": 39,
   "metadata": {},
   "outputs": [
    {
     "name": "stdout",
     "output_type": "stream",
     "text": [
      "Query:  Observation?code=18262-6&_sort=-date\n",
      "The most recent value is  149.43607005147118 mg/dL\n",
      "Referenced patient:  Patient/2000800\n"
     ]
    }
   ],
   "source": [
    "# Get the most recent LDL. This is an Observation where the Observation.code is LOINC 18262-6\n",
    "import fhirclient.models.observation as obs   #allows search of Observation resources\n",
    "# specify the search, setting the patient, the code we want and in descending order by date\n",
    "search = obs.Observation.where(struct={'code':\"18262-6\",'_sort':'-date'})\n",
    "#show the actual url that is generated\n",
    "url = search.construct()\n",
    "print('Query: ', url)\n",
    "\n",
    "LDLBundle = search.perform_resources(db.server)  #perform_resources() will place the returned resources into an array\n",
    "if LDLBundle:\n",
    "    #As the search is in date descending order, the first one will be the most recent\n",
    "    LDL_val = LDLBundle[0].valueQuantity.value\n",
    "    LDL_unit = LDLBundle[0].valueQuantity.unit\n",
    "    print('The most recent value is ',str(LDL_val) + \" \" + LDL_unit)\n",
    "    print('Referenced patient: ', LDLBundle[0].subject.reference)"
   ]
  },
  {
   "cell_type": "code",
   "execution_count": 30,
   "metadata": {},
   "outputs": [
    {
     "name": "stdout",
     "output_type": "stream",
     "text": [
      "Query:  Observation?patient=1035907&code=18262-6&_sort=-date\n",
      "The most recent value is  82 mg/dL\n"
     ]
    }
   ],
   "source": [
    "# Get the most recent LDL. This is an Observation where the Observation.code is LOINC 18262-6\n",
    "import fhirclient.models.observation as obs   #allows search of Observation resources\n",
    "# specify the search, setting the patient, the code we want and in descending order by date\n",
    "search = obs.Observation.where(struct={'patient':patient_id,'code':\"18262-6\",'_sort':'-date'})\n",
    "\n",
    "#show the actual url that is generated\n",
    "url = search.construct()\n",
    "print('Query: ', url)\n",
    "\n",
    "LDLBundle = search.perform_resources(db.server)  #perform_resources() will place the returned resources into an array\n",
    "if LDLBundle:\n",
    "    #As the search is in date descending order, the first one will be the most recent\n",
    "    LDL_val = LDLBundle[0].valueQuantity.value\n",
    "    LDL_unit = LDLBundle[0].valueQuantity.unit\n",
    "    print('The most recent value is ',str(LDL_val) + \" \" + LDL_unit)"
   ]
  },
  {
   "cell_type": "code",
   "execution_count": 40,
   "metadata": {},
   "outputs": [
    {
     "name": "stdout",
     "output_type": "stream",
     "text": [
      "Query:  Observation?patient=1035907&code=2085-9&_sort=-date\n",
      "The most recent value is  74 mg/dL\n"
     ]
    }
   ],
   "source": [
    "# Find the most recent HDL using a GET on Observation, specifying the patient id and the code for HDL\n",
    "search = obs.Observation.where(struct={'patient':patient_id,'code':\"2085-9\",'_sort':'-date'})\n",
    "\n",
    "#show the actual url that is generated\n",
    "print('Query: ', search.construct())\n",
    "\n",
    "HDL = search.perform_resources(db.server)\n",
    "if HDL:\n",
    "    HDL_val = HDL[0].valueQuantity.value\n",
    "    print('The most recent value is ',str(HDL_val) + \" \" + HDL[0].valueQuantity.unit)"
   ]
  },
  {
   "cell_type": "code",
   "execution_count": 41,
   "metadata": {},
   "outputs": [
    {
     "name": "stdout",
     "output_type": "stream",
     "text": [
      "Query:  Observation?patient=1035907&code=55284-4&_sort=-date\n",
      "Systolic: 101 mmHg\n",
      "Diastolic: 84 mmHg\n"
     ]
    }
   ],
   "source": [
    "# Find the most recent Blood Pressure\n",
    "search = obs.Observation.where(struct={'patient':patient_id,'code':\"55284-4\",'_sort':'-date'})\n",
    "print('Query: ', search.construct())\n",
    "press = search.perform_resources(db.server)\n",
    "if press:\n",
    "    #Blood pressure has both values in a single Observation, in different components\n",
    "    #We assume that the first component is the Systolic, but should really check the code to be sure\n",
    "    sys = press[0].component[0].valueQuantity.value\n",
    "    dia = press[0].component[1].valueQuantity.value\n",
    "    print(\"Systolic: \"+str(sys)+\" \"+press[0].component[0].valueQuantity.unit)\n",
    "    print(\"Diastolic: \"+str(dia)+\" \"+press[0].component[0].valueQuantity.unit)"
   ]
  },
  {
   "cell_type": "code",
   "execution_count": 47,
   "metadata": {},
   "outputs": [
    {
     "name": "stdout",
     "output_type": "stream",
     "text": [
      "Query:  Condition?patient=1035907&code=http%3A%2F%2Fsnomed.info%2Fsct%7C46635009\n",
      "Query:  Condition?patient=1035907&code=http%3A%2F%2Fsnomed.info%2Fsct%7C44054006\n",
      "Patient does not have diabetes\n"
     ]
    }
   ],
   "source": [
    "# Does the patient have diabetes? Check if there is a Condition with a code of either Type 1 or Type 2 Diabates\n",
    "# We assume a SNOMED code, note that the system for SNOMED is specified - eg http://snomed.info/sct|44054006\n",
    "# In practice, you'd need to check for multiple codes - there are terminology services that make this easier\n",
    "from fhirclient import client\n",
    "import fhirclient.models.condition as cond\n",
    "#This search is for type 1 diabetes\n",
    "search1 = cond.Condition.where(struct={'patient':patient_id,'code':'http://snomed.info/sct|46635009'})\n",
    "print('Query: ', search1.construct())\n",
    "#This is for type 2 diabetes\n",
    "search2 = cond.Condition.where(struct={'patient':patient_id,'code':'http://snomed.info/sct|44054006'})\n",
    "print('Query: ', search2.construct())\n",
    "\n",
    "#perform the query\n",
    "type1 = search1.perform_resources(db.server)\n",
    "type2 = search2.perform_resources(db.server)\n",
    "\n",
    "if type1:\n",
    "    print('Patient has type 1 diabetes')\n",
    "    \n",
    "if type2:\n",
    "    print('Patient has type 2 diabetes')\n",
    "\n",
    "#condition that says whether they have one of these two types of diabetes\n",
    "if type1 or type2:\n",
    "    diabetes = True   #this is the value that will be used in the Framingham calculation\n",
    "    print(\"Patient has diabetes\")\n",
    "else:\n",
    "    diabetes = False\n",
    "    print(\"Patient does not have diabetes\")\n"
   ]
  },
  {
   "cell_type": "code",
   "execution_count": 48,
   "metadata": {},
   "outputs": [
    {
     "name": "stdout",
     "output_type": "stream",
     "text": [
      "Patient doesn't smoke\n"
     ]
    }
   ],
   "source": [
    "#Look for an Observation with a LOINC code for smoker\n",
    "from fhirclient import client\n",
    "import fhirclient.models.observation as obs\n",
    "search = obs.Observation.where(struct={'patient':'Patient/cf-1533147316668','code':'http://loinc.org|72166-2'})\n",
    "smoking = search.perform_resources(db.server)\n",
    "if smoking:\n",
    "    smoke = True\n",
    "    print(\"Patient smokes\")\n",
    "else:\n",
    "    smoke = False\n",
    "    print(\"Patient doesn't smoke\")\n"
   ]
  },
  {
   "cell_type": "markdown",
   "metadata": {},
   "source": [
    "## Now that we have the data we need, we can perform the Framingham calculations"
   ]
  },
  {
   "cell_type": "code",
   "execution_count": 49,
   "metadata": {},
   "outputs": [
    {
     "name": "stdout",
     "output_type": "stream",
     "text": [
      "Male analysis complete\n"
     ]
    }
   ],
   "source": [
    "points = 0\n",
    "\n",
    "#this block is for a Male\n",
    "if gender == \"male\":\n",
    "    if age <= 34:\n",
    "        points += -1\n",
    "    if age >= 40 and age <= 44:\n",
    "        points += 1\n",
    "    if age >= 45 and age <= 49:\n",
    "        points += 2\n",
    "    if age >= 50 and age <= 54:\n",
    "        points += 3\n",
    "    if age >= 55 and age <= 59:\n",
    "        points += 4\n",
    "    if age >= 60 and age <= 64:\n",
    "        points += 5\n",
    "    if age >= 65 and age <= 69:\n",
    "        points += 6\n",
    "    if age >= 70:\n",
    "        points += 7\n",
    "    if LDL_val < 100:\n",
    "        points += -3\n",
    "    if LDL_val >= 160 and LDL_val <= 189:\n",
    "        points += 1\n",
    "    if LDL_val >= 190:\n",
    "        points += 2\n",
    "    if HDL_val < 35:\n",
    "        points += 2\n",
    "    if HDL_val >= 35 and LDL_val <= 44:\n",
    "        points += 1\n",
    "    if HDL_val >= 60:\n",
    "        points += -1\n",
    "    if sys <=129 and dia >= 85 and dia <= 89:\n",
    "        points += 1\n",
    "    if sys >= 130 and sys <=139 and dia < 90:\n",
    "        points += 1\n",
    "    if sys <= 139 and dia >= 90 and dia <= 99:\n",
    "        points += 2\n",
    "    if sys >= 140 and sys <=159 and dia < 100:\n",
    "        points += 2\n",
    "    if sys > 159 or dia > 99:\n",
    "        points += 3\n",
    "    if diabetes == True:\n",
    "        points += 2\n",
    "    if smoking == True:\n",
    "        points += 2\n",
    "        \n",
    "    print(\"Male analysis complete\")"
   ]
  },
  {
   "cell_type": "code",
   "execution_count": 50,
   "metadata": {},
   "outputs": [],
   "source": [
    "# and this for a female\n",
    "if gender == \"female\":\n",
    "    if age <= 34:\n",
    "        points += -9\n",
    "    if age >= 35 and age <= 39:\n",
    "        points += -4\n",
    "    if age >= 45 and age <= 49:\n",
    "        points += 3\n",
    "    if age >= 50 and age <= 54:\n",
    "        points += 6\n",
    "    if age >= 55 and age <= 59:\n",
    "        points += 7\n",
    "    if age >= 60:\n",
    "        points += 8\n",
    "    if LDL_val < 100:\n",
    "        points += -2\n",
    "    if LDL_val >= 160:\n",
    "        points += 2\n",
    "    if HDL_val < 35:\n",
    "        points += 5\n",
    "    if HDL_val >= 35 and HDL_val <= 44:\n",
    "        points += 2\n",
    "    if HDL_val >= 45 and HDL_val <= 49:\n",
    "        points += 1\n",
    "    if HDL_val >= 60:\n",
    "        points += -2\n",
    "    if sys < 120 and dia < 80:\n",
    "        points += -3\n",
    "    if sys <=159 and dia >=90 and dia < 100:\n",
    "        points += 2\n",
    "    if sys > 159 or dia > 99:\n",
    "        points += 3\n",
    "    if diabetes == True:\n",
    "        points += 4\n",
    "    if smoking == True:\n",
    "        points += 2\n",
    "    print(\"Female analysis complete\")"
   ]
  },
  {
   "cell_type": "code",
   "execution_count": 51,
   "metadata": {
    "scrolled": true
   },
   "outputs": [
    {
     "name": "stdout",
     "output_type": "stream",
     "text": [
      "Total number of points: 2\n",
      "Risk of Heart Disease: 4%\n"
     ]
    }
   ],
   "source": [
    "#this table converts from points to a percentage risk\n",
    "male_results = {0:3,1:4,2:4,3:6,4:7,5:9,6:11,7:14,8:18,9:22,10:27,11:33,12:40,13:47}\n",
    "female_results = {0:2,1:2,2:3,3:3,4:4,5:5,6:6,7:7,8:8,9:9,10:11,11:13,12:15,13:17,14:20,15:24,16:27}\n",
    "\n",
    "if points >=14 and gender == \"male\":\n",
    "    risk = \">= 56%\"\n",
    "elif points >=17 and gender == \"female\":\n",
    "    risk = \">= 32%\"\n",
    "elif gender == \"male\":\n",
    "    percent = male_results[points]\n",
    "    risk = str(percent)+\"%\"\n",
    "else:\n",
    "    percent = female_results[points]\n",
    "    risk = str(percent)+\"%\"\n",
    "print(\"Total number of points: \"+str(points))\n",
    "print(\"Risk of Heart Disease: \"+risk)"
   ]
  },
  {
   "cell_type": "markdown",
   "metadata": {
    "collapsed": true
   },
   "source": [
    "# Now...How would you find a patient who's likely to have a higher score in the FHIR server?"
   ]
  }
 ],
 "metadata": {
  "anaconda-cloud": {},
  "kernelspec": {
   "display_name": "Python 3",
   "language": "python",
   "name": "python3"
  },
  "language_info": {
   "codemirror_mode": {
    "name": "ipython",
    "version": 3
   },
   "file_extension": ".py",
   "mimetype": "text/x-python",
   "name": "python",
   "nbconvert_exporter": "python",
   "pygments_lexer": "ipython3",
   "version": "3.7.4"
  }
 },
 "nbformat": 4,
 "nbformat_minor": 1
}
