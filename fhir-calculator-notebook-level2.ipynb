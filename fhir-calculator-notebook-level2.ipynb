{
 "cells": [
  {
   "cell_type": "markdown",
   "metadata": {},
   "source": [
    "# Tutorial - Level 2"
   ]
  },
  {
   "cell_type": "markdown",
   "metadata": {},
   "source": [
    "**Use Case**\n",
    "A nurse practitioner wants to calculate a patient's body mass index (BMI). \n",
    "\n",
    "\n",
    "**Define Functional requirements**  \n",
    "Step 1 - Define required clinical data elements  \n",
    "- ?\n",
    "    \n",
    "  \n",
    "Step 2 - Identify FHIR Resources to support use case data (http://hl7.org/fhir/resourcelist.html)\n",
    "- ?\n",
    "\n",
    "Step 3 - Identify data elements within each FHIR Resource definition necessary to support use case data\n",
    "- ?\n"
   ]
  },
  {
   "cell_type": "markdown",
   "metadata": {},
   "source": [
    "## Initialize the environment to run the application"
   ]
  },
  {
   "cell_type": "code",
   "execution_count": null,
   "metadata": {},
   "outputs": [],
   "source": [
    "# Install the Python FHIR client package in the current Jupyter kernel using pip\n",
    "#   Library location in github: https://github.com/smart-on-fhir/client-py\n",
    "import sys\n",
    "!{sys.executable} -m pip install git+https://github.com/smart-on-fhir/client-py.git"
   ]
  },
  {
   "cell_type": "code",
   "execution_count": null,
   "metadata": {
    "ExecuteTime": {
     "end_time": "2020-09-09T21:39:44.500909Z",
     "start_time": "2020-09-09T21:39:44.289245Z"
    }
   },
   "outputs": [],
   "source": [
    "# Import the client library that understands how to make FHIR calls and interpret the results\n",
    "from fhirclient import client"
   ]
  },
  {
   "cell_type": "markdown",
   "metadata": {},
   "source": [
    "## Find a patient with relevant variables"
   ]
  },
  {
   "cell_type": "markdown",
   "metadata": {},
   "source": [
    "*Hint: Either create a patient with clinfhir or use the URL https://hapi.fhir.org/baseR4/[resource]?code=[loinc]*"
   ]
  },
  {
   "cell_type": "markdown",
   "metadata": {},
   "source": [
    "## Load patient from database"
   ]
  },
  {
   "cell_type": "code",
   "execution_count": null,
   "metadata": {
    "ExecuteTime": {
     "end_time": "2020-09-09T21:38:07.101901Z",
     "start_time": "2020-09-09T21:38:07.098831Z"
    }
   },
   "outputs": [],
   "source": [
    "# Define the FHIR Endpoint. We define the name of this app (used in SMART calls), and the location of the server\n",
    "settings = {\n",
    "    'app_id': 'my_web_app',\n",
    "    'api_base': 'http://hapi.fhir.org/baseR4/'\n",
    "}"
   ]
  },
  {
   "cell_type": "code",
   "execution_count": null,
   "metadata": {},
   "outputs": [],
   "source": [
    "# Create an instance of the FHIR library that points to the FHIR server.\n",
    "db = client.FHIRClient(settings=settings)"
   ]
  },
  {
   "cell_type": "code",
   "execution_count": null,
   "metadata": {},
   "outputs": [],
   "source": [
    "# Perform a GET (read) on the patient with the ID you identified earlier\n",
    "#    Then set your patient variable to use later\n",
    "from fhirclient.models.patient import Patient\n",
    "\n",
    "patient =\n"
   ]
  },
  {
   "cell_type": "markdown",
   "metadata": {},
   "source": [
    "## *Optional: get basic demographics*"
   ]
  },
  {
   "cell_type": "code",
   "execution_count": null,
   "metadata": {},
   "outputs": [],
   "source": [
    "# Patient name \n",
    "#    Hint: remember name can include both given and family\n",
    "\n",
    "first_name = \n",
    "last_name = \n",
    "\n",
    "print(first_name, last_name)"
   ]
  },
  {
   "cell_type": "code",
   "execution_count": null,
   "metadata": {},
   "outputs": [],
   "source": [
    "# Patient's gender\n"
   ]
  },
  {
   "cell_type": "code",
   "execution_count": null,
   "metadata": {},
   "outputs": [],
   "source": [
    "# Define variable dob as the patient's date of birth\n",
    "dob = \n",
    "\n",
    "print(dob)"
   ]
  },
  {
   "cell_type": "code",
   "execution_count": null,
   "metadata": {},
   "outputs": [],
   "source": [
    "# We'd like to know the patient's age. The EHR contains the date of birth only, \n",
    "# so we have to calculate the age using the dob and today's date.\n",
    "# For this we need the datetime library\n",
    "import datetime\n",
    "\n"
   ]
  },
  {
   "cell_type": "code",
   "execution_count": null,
   "metadata": {},
   "outputs": [],
   "source": [
    "# Calculate the patient's age using the relativedelta method of the dateutil \n",
    "# module\n",
    "from dateutil.relativedelta import relativedelta\n",
    "\n"
   ]
  },
  {
   "cell_type": "code",
   "execution_count": null,
   "metadata": {},
   "outputs": [],
   "source": [
    "# Print patient name, gender, DOB, age, and today's date\n"
   ]
  },
  {
   "cell_type": "markdown",
   "metadata": {},
   "source": [
    "## Query database for relevant information"
   ]
  },
  {
   "cell_type": "code",
   "execution_count": null,
   "metadata": {},
   "outputs": [],
   "source": [
    "# Query database for weight (using the LOINC code for weight) and print it with units\n",
    "from fhirclient.models.observation import Observation\n",
    "\n",
    "# specify the search, setting the patient, the code we want and the sort order \n",
    "# (descending order by date)\n",
    "search =\n",
    "\n",
    "\n",
    "# show the actual url that is generated\n",
    "url = search.construct()\n",
    "print('Query: ', url)\n"
   ]
  },
  {
   "cell_type": "code",
   "execution_count": null,
   "metadata": {},
   "outputs": [],
   "source": [
    "# Run the query and save the latest weight to a variable\n",
    "\n",
    "latest_weight = \n",
    "\n"
   ]
  },
  {
   "cell_type": "code",
   "execution_count": null,
   "metadata": {},
   "outputs": [],
   "source": [
    "# Query database for height (using the LOINC code for height) and print it with units\n",
    "\n",
    "latest_weight =\n",
    "\n"
   ]
  },
  {
   "cell_type": "markdown",
   "metadata": {},
   "source": [
    "## Calculate BMI"
   ]
  },
  {
   "cell_type": "code",
   "execution_count": null,
   "metadata": {},
   "outputs": [],
   "source": [
    "# Calculate BMI to one decimal\n",
    "\n",
    "bmi ="
   ]
  },
  {
   "cell_type": "code",
   "execution_count": null,
   "metadata": {},
   "outputs": [],
   "source": [
    "# Print BMI category\n",
    "#    Hint: See https://www.nhlbi.nih.gov/health/educational/lose_wt/risk.htm for categories\n",
    "\n",
    "\n",
    "\n"
   ]
  },
  {
   "cell_type": "code",
   "execution_count": null,
   "metadata": {},
   "outputs": [],
   "source": []
  }
 ],
 "metadata": {
  "anaconda-cloud": {},
  "kernelspec": {
   "display_name": "Python 3",
   "language": "python",
   "name": "python3"
  },
  "language_info": {
   "codemirror_mode": {
    "name": "ipython",
    "version": 3
   },
   "file_extension": ".py",
   "mimetype": "text/x-python",
   "name": "python",
   "nbconvert_exporter": "python",
   "pygments_lexer": "ipython3",
   "version": "3.7.7"
  },
  "toc": {
   "base_numbering": 1,
   "nav_menu": {},
   "number_sections": true,
   "sideBar": true,
   "skip_h1_title": false,
   "title_cell": "Table of Contents",
   "title_sidebar": "Contents",
   "toc_cell": false,
   "toc_position": {},
   "toc_section_display": true,
   "toc_window_display": false
  }
 },
 "nbformat": 4,
 "nbformat_minor": 1
}
