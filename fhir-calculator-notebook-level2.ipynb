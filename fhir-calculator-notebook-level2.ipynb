{
 "cells": [
  {
   "cell_type": "markdown",
   "metadata": {},
   "source": [
    "**Use Case**\n",
    "A nurse practitioner wants to calculate a patient's body mass index (BMI). \n",
    "\n",
    "\n",
    "**Define Functional requirements**  \n",
    "Step 1 - Define required clinical data elements  \n",
    "- Patient height (inches)\n",
    "- Patient weight (pounds)  \n",
    "    \n",
    "  \n",
    "Step 2 - Identify FHIR Resources to support use case data (http://hl7.org/fhir/resourcelist.html)\n",
    "- Patient height: Observation resource http://hl7.org/fhir/observation.html\n",
    "- Patient weight: Observation resource http://hl7.org/fhir/observation.html\n",
    "\n",
    "Step 3 - Identify data elements within each FHIR Resource definition necessary to support use case data\n"
   ]
  },
  {
   "cell_type": "markdown",
   "metadata": {},
   "source": [
    "## Initialize the environment to run the application"
   ]
  },
  {
   "cell_type": "code",
   "execution_count": 1,
   "metadata": {},
   "outputs": [
    {
     "name": "stdout",
     "output_type": "stream",
     "text": [
      "Requirement already satisfied: fhirclient in c:\\users\\maggie\\anaconda3\\lib\\site-packages (3.2.0)\n",
      "Requirement already satisfied: requests in c:\\users\\maggie\\anaconda3\\lib\\site-packages (from fhirclient) (2.18.4)\n",
      "Requirement already satisfied: isodate in c:\\users\\maggie\\anaconda3\\lib\\site-packages (from fhirclient) (0.6.0)\n",
      "Requirement already satisfied: chardet<3.1.0,>=3.0.2 in c:\\users\\maggie\\anaconda3\\lib\\site-packages (from requests->fhirclient) (3.0.4)\n",
      "Requirement already satisfied: idna<2.7,>=2.5 in c:\\users\\maggie\\anaconda3\\lib\\site-packages (from requests->fhirclient) (2.6)\n",
      "Requirement already satisfied: urllib3<1.23,>=1.21.1 in c:\\users\\maggie\\anaconda3\\lib\\site-packages (from requests->fhirclient) (1.22)\n",
      "Requirement already satisfied: certifi>=2017.4.17 in c:\\users\\maggie\\anaconda3\\lib\\site-packages (from requests->fhirclient) (2018.1.18)\n",
      "Requirement already satisfied: six in c:\\users\\maggie\\anaconda3\\lib\\site-packages (from isodate->fhirclient) (1.11.0)\n"
     ]
    }
   ],
   "source": [
    "# Install the Python FHIR client package in the current Jupyter kernel using pip\n",
    "\n"
   ]
  },
  {
   "cell_type": "code",
   "execution_count": 2,
   "metadata": {},
   "outputs": [
    {
     "name": "stdout",
     "output_type": "stream",
     "text": [
      "FHIR client library has been loaded\n"
     ]
    }
   ],
   "source": [
    "# Import the client library that understands how to make FHIR calls and interpret the results\n",
    "#  Remember to import: client, datetime, requests, and json\n",
    "#  Then print 'FHIR client library has been loaded'\n",
    "\n"
   ]
  },
  {
   "cell_type": "markdown",
   "metadata": {},
   "source": [
    "## Load the data needed for the Framinghan analysis"
   ]
  },
  {
   "cell_type": "code",
   "execution_count": 3,
   "metadata": {
    "collapsed": true
   },
   "outputs": [],
   "source": [
    "#Load the Patient from the database, and display demographics\n",
    "from dateutil.relativedelta import relativedelta  # a utility function for comparing dates\n",
    "import datetime\n",
    "# Define the FHIR Endpoint. We define the name of this app (used in SMART calls), and the location of the server\n",
    "settings = {\n",
    "    'app_id': 'my_web_app',\n",
    "    'api_base': 'https://fhirtest.uhn.ca/baseDstu3'\n",
    "}"
   ]
  },
  {
   "cell_type": "code",
   "execution_count": 4,
   "metadata": {
    "collapsed": true
   },
   "outputs": [],
   "source": [
    "# Create an 'instance' of the FHIR library that points to the FHIR server. We use this to make the calls.\n",
    "db = client.FHIRClient(settings=settings)"
   ]
  },
  {
   "cell_type": "code",
   "execution_count": 5,
   "metadata": {},
   "outputs": [
    {
     "name": "stdout",
     "output_type": "stream",
     "text": [
      "Reading patient, please wait...\n"
     ]
    }
   ],
   "source": [
    "# Perform a GET (read) on the patient with an id of 'cf-1495289345197' (a test patient we created)\n",
    "# We could also search on name or any other property to find the patient\n",
    "# Under the hood, a GET request is issued to the server, eg GET [server]/Patient/2789048\n",
    "import fhirclient.models.patient as p\n",
    "print('Reading patient, please wait...')\n",
    "patient = p.Patient.read('cf-1533147316668', db.server)"
   ]
  },
  {
   "cell_type": "code",
   "execution_count": 6,
   "metadata": {},
   "outputs": [
    {
     "name": "stdout",
     "output_type": "stream",
     "text": [
      "Patient's Name(s) =  Joseph Framingham\n"
     ]
    }
   ],
   "source": [
    "# Print the patient name. A Patient can have more than one name (ie Patient.name is multiple)\n",
    "for name in patient.name:\n",
    "    first_name = name.given[0]\n",
    "    last_name = name.family\n",
    "    print ('Patient\\'s Name(s) = ',first_name,last_name)"
   ]
  },
  {
   "cell_type": "code",
   "execution_count": 7,
   "metadata": {},
   "outputs": [
    {
     "name": "stdout",
     "output_type": "stream",
     "text": [
      "Gender =  male\n"
     ]
    }
   ],
   "source": [
    "# Print patient's gender (only 1 gender !)\n",
    "gender = patient.gender\n",
    "print ('Gender = ',gender)"
   ]
  },
  {
   "cell_type": "code",
   "execution_count": 8,
   "metadata": {},
   "outputs": [
    {
     "name": "stdout",
     "output_type": "stream",
     "text": [
      "DOB =  1961-07-31\n"
     ]
    }
   ],
   "source": [
    "# Define variable DOB as the patient's date of birth in a string format (so it can be displayed)\n",
    "DOB = patient.birthDate.isostring\n",
    "print ('DOB = ', DOB)"
   ]
  },
  {
   "cell_type": "code",
   "execution_count": 9,
   "metadata": {},
   "outputs": [
    {
     "name": "stdout",
     "output_type": "stream",
     "text": [
      "Today's Date =  2018-09-19 14:18:00.301997\n"
     ]
    }
   ],
   "source": [
    "# Define and print today variable. We'll use this for the age (coming up next)\n",
    "now = datetime.datetime.today()\n",
    "print ('Today\\'s Date = ', now)"
   ]
  },
  {
   "cell_type": "code",
   "execution_count": 10,
   "metadata": {
    "collapsed": true
   },
   "outputs": [],
   "source": [
    "#now get the patients age using the relativedelta library function. Don't sweat the details!\n",
    "#Define DOB2 date object\n",
    "DOB2 = datetime.datetime.strptime(DOB, '%Y-%m-%d')"
   ]
  },
  {
   "cell_type": "code",
   "execution_count": 11,
   "metadata": {},
   "outputs": [
    {
     "name": "stdout",
     "output_type": "stream",
     "text": [
      "Patient's age =  57\n"
     ]
    }
   ],
   "source": [
    "# Calcuate patient's age using rdelta method of the dateutil module\n",
    "rdelta = relativedelta(now, DOB2)\n",
    "age=rdelta.years\n",
    "\n",
    "# print the years from the rdelta object\n",
    "print ('Patient\\'s age = ',age)"
   ]
  },
  {
   "cell_type": "code",
   "execution_count": 12,
   "metadata": {},
   "outputs": [
    {
     "name": "stdout",
     "output_type": "stream",
     "text": [
      "Patient's Name(s) =  Joseph Framingham\n",
      "Gender =  male\n",
      "DOB =  1961-07-31\n",
      "Today's Date =  2018-09-19 14:18:00.301997\n",
      "Patient's age =  57\n"
     ]
    }
   ],
   "source": [
    "#All of the above scripts could have been combined into a single cell\n",
    "#Below are all the print statements:\n",
    "print ('Patient\\'s Name(s) = ',first_name,last_name)\n",
    "print ('Gender = ',gender)\n",
    "print ('DOB = ', DOB)\n",
    "print ('Today\\'s Date = ', now)\n",
    "print ('Patient\\'s age = ',age)"
   ]
  },
  {
   "cell_type": "code",
   "execution_count": 13,
   "metadata": {},
   "outputs": [
    {
     "name": "stdout",
     "output_type": "stream",
     "text": [
      "Query:  Observation?patient=Patient%2Fcf-1533147316668&code=18262-6&_sort=-date\n",
      "The most recent value is  189 mg/dL\n"
     ]
    }
   ],
   "source": [
    "import fhirclient.models.observation as obs   #allows search of Observation resources\n",
    "# specify the search, setting the patient, the code we want and in descending order by date\n",
    "search = obs.Observation.where(struct={'patient':\"Patient/2789048\",'code':\"3141-9\",'_sort':'-date'})\n",
    "\n",
    "#show the actual url that is generated\n",
    "url = search.construct()\n",
    "print('Query: ', url)\n",
    "\n",
    "weight = search.perform_resources(db.server)\n",
    "if weight:\n",
    "    weight_val = weight[0].valueQuantity.value\n",
    "    print(str(weight_val) + \" \" + weight[0].valueQuantity.unit)"
   ]
  },
  {
   "cell_type": "code",
   "execution_count": 14,
   "metadata": {},
   "outputs": [
    {
     "name": "stdout",
     "output_type": "stream",
     "text": [
      "Query:  Observation?patient=Patient%2Fcf-1533147316668&code=2085-9&_sort=-date\n",
      "The most recent value is  32 mg/dL\n"
     ]
    }
   ],
   "source": [
    "import fhirclient.models.observation as obs   #allows search of Observation resources\n",
    "# specify the search, setting the patient, the code we want and in descending order by date\n",
    "search = obs.Observation.where(struct={'patient':\"Patient/2789048\",'code':\"8302-2\",'_sort':'-date'})\n",
    "\n",
    "#show the actual url that is generated\n",
    "url = search.construct()\n",
    "print('Query: ', url)\n",
    "\n",
    "height = search.perform_resources(db.server)\n",
    "if height:\n",
    "    height_val = height[0].valueQuantity.value\n",
    "    print(str(height_val) + \" \" + height[0].valueQuantity.unit)"
   ]
  },
  {
   "cell_type": "code",
   "execution_count": null,
   "metadata": {
    "collapsed": true
   },
   "outputs": [],
   "source": [
    "bmi = weight_val/((height_val/100)**2)\n",
    "bmi"
   ]
  },
  {
   "cell_type": "code",
   "execution_count": 15,
   "metadata": {},
   "outputs": [
    {
     "name": "stdout",
     "output_type": "stream",
     "text": [
      "Query:  Observation?patient=Patient%2Fcf-1533147316668&code=55284-4&_sort=-date\n",
      "Systolic: 154 mmHG\n",
      "Diastolic: 89 mmHG\n"
     ]
    }
   ],
   "source": []
  },
  {
   "cell_type": "code",
   "execution_count": 19,
   "metadata": {},
   "outputs": [
    {
     "name": "stdout",
     "output_type": "stream",
     "text": [
      "Query:  Condition?patient=Patient%2Fcf-1533147316668&code=http%3A%2F%2Fsnomed.info%2Fsct%7C46635009\n",
      "Query:  Condition?patient=Patient%2Fcf-1533147316668&code=http%3A%2F%2Fsnomed.info%2Fsct%7C44054006\n",
      "Patient has type 2 diabetes\n",
      "Patient has diabetes\n"
     ]
    }
   ],
   "source": [
    "# Does the patient have diabetes? Check if there is a Condition with a code of either Type 1 or Type 2 Diabates\n",
    "# We assume a SNOMED code, note that the system for SNOMED is specified - eg http://snomed.info/sct|44054006\n",
    "# In practice, you'd need to check for multiple codes - there are terminology services that make this easier\n",
    "from fhirclient import client\n",
    "import fhirclient.models.condition as cond\n",
    "#This search is for type 1 diabetes\n",
    "search1 = cond.Condition.where(struct={'patient':'Patient/2789048','code':'http://snomed.info/sct|46635009'})\n",
    "print('Query: ', search1.construct())\n",
    "#This is for type 2 diabetes\n",
    "search2 = cond.Condition.where(struct={'patient':'Patient/2789048','code':'http://snomed.info/sct|44054006'})\n",
    "print('Query: ', search2.construct())\n",
    "\n",
    "#perform the query\n",
    "type1 = search1.perform_resources(db.server)\n",
    "type2 = search2.perform_resources(db.server)\n",
    "\n",
    "if type1:\n",
    "    print('Patient has type 1 diabetes')\n",
    "    \n",
    "if type2:\n",
    "    print('Patient has type 2 diabetes')\n",
    "\n",
    "#condition that says whether they have one of these two types of diabetes\n",
    "if type1 or type2:\n",
    "    diabetes = True   #this is the value that will be used in the Framingham calculation\n",
    "    print(\"Patient has diabetes\")"
   ]
  },
  {
   "cell_type": "code",
   "execution_count": 20,
   "metadata": {},
   "outputs": [
    {
     "name": "stdout",
     "output_type": "stream",
     "text": [
      "Patient smokes\n"
     ]
    }
   ],
   "source": [
    "#Look for an Observation with a LOINC code for smoker\n",
    "from fhirclient import client\n",
    "import fhirclient.models.observation as obs\n",
    "search = obs.Observation.where(struct={'patient':'Patient/2789048','code':'http://loinc.org|72166-2'})\n",
    "smoking = search.perform_resources(db.server)\n",
    "if smoking:\n",
    "    smoke = True\n",
    "    print(\"Patient smokes\")\n",
    "else:\n",
    "    smoke = False\n",
    "    print(\"Patient doesn't smoke\")\n"
   ]
  },
  {
   "cell_type": "markdown",
   "metadata": {},
   "source": [
    "## Now that we have the data we need, we can perform the Framingham calculations"
   ]
  },
  {
   "cell_type": "code",
   "execution_count": 21,
   "metadata": {},
   "outputs": [
    {
     "name": "stdout",
     "output_type": "stream",
     "text": [
      "Male analysis complete\n"
     ]
    }
   ],
   "source": [
    "points = 0\n",
    "\n",
    "#this block is for a Male\n",
    "if gender == \"male\":\n",
    "    if age <= 34:\n",
    "        points += -1\n",
    "    if age >= 40 and age <= 44:\n",
    "        points += 1\n",
    "    if age >= 45 and age <= 49:\n",
    "        points += 2\n",
    "    if age >= 50 and age <= 54:\n",
    "        points += 3\n",
    "    if age >= 55 and age <= 59:\n",
    "        points += 4\n",
    "    if age >= 60 and age <= 64:\n",
    "        points += 5\n",
    "    if age >= 65 and age <= 69:\n",
    "        points += 6\n",
    "    if age >= 70:\n",
    "        points += 7\n",
    "    if LDL_val < 100:\n",
    "        points += -3\n",
    "    if LDL_val >= 160 and LDL_val <= 189:\n",
    "        points += 1\n",
    "    if LDL_val >= 190:\n",
    "        points += 2\n",
    "    if HDL_val < 35:\n",
    "        points += 2\n",
    "    if HDL_val >= 35 and LDL_val <= 44:\n",
    "        points += 1\n",
    "    if HDL_val >= 60:\n",
    "        points += -1\n",
    "    if sys <=129 and dia >= 85 and dia <= 89:\n",
    "        points += 1\n",
    "    if sys >= 130 and sys <=139 and dia < 90:\n",
    "        points += 1\n",
    "    if sys <= 139 and dia >= 90 and dia <= 99:\n",
    "        points += 2\n",
    "    if sys >= 140 and sys <=159 and dia < 100:\n",
    "        points += 2\n",
    "    if sys > 159 or dia > 99:\n",
    "        points += 3\n",
    "    if diabetes == True:\n",
    "        points += 2\n",
    "    if smoking == True:\n",
    "        points += 2\n",
    "        \n",
    "    print(\"Male analysis complete\")"
   ]
  },
  {
   "cell_type": "code",
   "execution_count": 22,
   "metadata": {
    "collapsed": true
   },
   "outputs": [],
   "source": [
    "# and this for a female\n",
    "if gender == \"female\":\n",
    "    if age <= 34:\n",
    "        points += -9\n",
    "    if age >= 35 and age <= 39:\n",
    "        points += -4\n",
    "    if age >= 45 and age <= 49:\n",
    "        points += 3\n",
    "    if age >= 50 and age <= 54:\n",
    "        points += 6\n",
    "    if age >= 55 and age <= 59:\n",
    "        points += 7\n",
    "    if age >= 60:\n",
    "        points += 8\n",
    "    if LDL_val < 100:\n",
    "        points += -2\n",
    "    if LDL_val >= 160:\n",
    "        points += 2\n",
    "    if HDL_val < 35:\n",
    "        points += 5\n",
    "    if HDL_val >= 35 and HDL_val <= 44:\n",
    "        points += 2\n",
    "    if HDL_val >= 45 and HDL_val <= 49:\n",
    "        points += 1\n",
    "    if HDL_val >= 60:\n",
    "        points += -2\n",
    "    if sys < 120 and dia < 80:\n",
    "        points += -3\n",
    "    if sys <=159 and dia >=90 and dia < 100:\n",
    "        points += 2\n",
    "    if sys > 159 or dia > 99:\n",
    "        points += 3\n",
    "    if diabetes == True:\n",
    "        points += 4\n",
    "    if smoking == True:\n",
    "        points += 2\n",
    "    print(\"Female analysis complete\")"
   ]
  },
  {
   "cell_type": "code",
   "execution_count": 23,
   "metadata": {},
   "outputs": [
    {
     "name": "stdout",
     "output_type": "stream",
     "text": [
      "Total number of points: 11\n",
      "Risk of Heart Disease: 33%\n"
     ]
    }
   ],
   "source": [
    "#this table converts from points to a percentage risk\n",
    "male_results = {0:3,1:4,2:4,3:6,4:7,5:9,6:11,7:14,8:18,9:22,10:27,11:33,12:40,13:47}\n",
    "female_results = {0:2,1:2,2:3,3:3,4:4,5:5,6:6,7:7,8:8,9:9,10:11,11:13,12:15,13:17,14:20,15:24,16:27}\n",
    "\n",
    "if points >=14 and gender == \"male\":\n",
    "    risk = \">= 56%\"\n",
    "elif points >=17 and gender == \"female\":\n",
    "    risk = \">= 32%\"\n",
    "elif gender == \"male\":\n",
    "    percent = male_results[points]\n",
    "    risk = str(percent)+\"%\"\n",
    "else:\n",
    "    percent = female_results[points]\n",
    "    risk = str(percent)+\"%\"\n",
    "print(\"Total number of points: \"+str(points))\n",
    "print(\"Risk of Heart Disease: \"+risk)"
   ]
  },
  {
   "cell_type": "markdown",
   "metadata": {
    "collapsed": true
   },
   "source": [
    "## Addendum: Getting data from a ValueSet"
   ]
  },
  {
   "cell_type": "code",
   "execution_count": 24,
   "metadata": {},
   "outputs": [
    {
     "name": "stdout",
     "output_type": "stream",
     "text": [
      "All concepts in this ValueSet\n",
      "asked but unknown ( ASKU http://hl7.org/fhir/v3/NullFlavor )\n",
      "unknown ( UNK http://hl7.org/fhir/v3/NullFlavor )\n",
      "\n",
      "Only concepts with a 'w' in the display\n",
      "asked but unknown ( ASKU http://hl7.org/fhir/v3/NullFlavor )\n",
      "unknown ( UNK http://hl7.org/fhir/v3/NullFlavor )\n"
     ]
    }
   ],
   "source": [
    "#Addendum: This is an an example of how you look up the values in a valueset, using the $expand operation\n",
    "from fhirclient import client\n",
    "import fhirclient.models.valueset as vs\n",
    "# we specify the $expand operation. read_from() allows us to specify a relative path, so we can add the operation\n",
    "# the operation is still against the vs model, as that is the resource type that is returned.\n",
    "raceValueSet  = vs.ValueSet.read_from('ValueSet/omb-race-category/$expand',db.server)\n",
    "\n",
    "#print out the expanded contents\n",
    "print('All concepts in this ValueSet')\n",
    "for concept in raceValueSet.expansion.contains:\n",
    "    print(concept.display, '(', concept.code, concept.system,')')\n",
    "\n",
    "print()\n",
    "print(\"Only concepts with a 'w' in the display\")    \n",
    "raceValueSet  = vs.ValueSet.read_from('ValueSet/omb-race-category/$expand?filter=w',db.server)\n",
    "\n",
    "#print out the expanded contents\n",
    "\n",
    "for concept in raceValueSet.expansion.contains:\n",
    "    print(concept.display, '(', concept.code, concept.system,')')\n"
   ]
  },
  {
   "cell_type": "code",
   "execution_count": null,
   "metadata": {
    "collapsed": true
   },
   "outputs": [],
   "source": []
  }
 ],
 "metadata": {
  "anaconda-cloud": {},
  "kernelspec": {
   "display_name": "Python 3",
   "language": "python",
   "name": "python3"
  },
  "language_info": {
   "codemirror_mode": {
    "name": "ipython",
    "version": 3
   },
   "file_extension": ".py",
   "mimetype": "text/x-python",
   "name": "python",
   "nbconvert_exporter": "python",
   "pygments_lexer": "ipython3",
   "version": "3.6.3"
  }
 },
 "nbformat": 4,
 "nbformat_minor": 1
}
