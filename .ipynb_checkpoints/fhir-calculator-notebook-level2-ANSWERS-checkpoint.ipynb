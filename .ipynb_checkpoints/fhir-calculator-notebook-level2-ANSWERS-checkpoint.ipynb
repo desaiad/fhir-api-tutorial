{
 "cells": [
  {
   "cell_type": "markdown",
   "metadata": {},
   "source": [
    "## ANSWERS"
   ]
  },
  {
   "cell_type": "markdown",
   "metadata": {},
   "source": [
    "**Use Case**\n",
    "A nurse practitioner wants to calculate a patient's body mass index (BMI). \n",
    "\n",
    "\n",
    "**Define Functional requirements**  \n",
    "Step 1 - Define required clinical data elements  \n",
    "- Patient height (inches)\n",
    "- Patient weight (pounds)  \n",
    "    \n",
    "  \n",
    "Step 2 - Identify FHIR Resources to support use case data (http://hl7.org/fhir/resourcelist.html)\n",
    "- Patient height: Observation resource http://hl7.org/fhir/observation.html\n",
    "- Patient weight: Observation resource http://hl7.org/fhir/observation.html\n",
    "\n",
    "Step 3 - Identify data elements within each FHIR Resource definition necessary to support use case data\n"
   ]
  },
  {
   "cell_type": "markdown",
   "metadata": {},
   "source": [
    "## Initialize the environment to run the application"
   ]
  },
  {
   "cell_type": "code",
   "execution_count": 1,
   "metadata": {},
   "outputs": [
    {
     "name": "stdout",
     "output_type": "stream",
     "text": [
      "Requirement already satisfied: fhirclient in c:\\users\\maggie\\anaconda3\\lib\\site-packages (3.2.0)\n",
      "Requirement already satisfied: requests in c:\\users\\maggie\\anaconda3\\lib\\site-packages (from fhirclient) (2.18.4)\n",
      "Requirement already satisfied: isodate in c:\\users\\maggie\\anaconda3\\lib\\site-packages (from fhirclient) (0.6.0)\n",
      "Requirement already satisfied: chardet<3.1.0,>=3.0.2 in c:\\users\\maggie\\anaconda3\\lib\\site-packages (from requests->fhirclient) (3.0.4)\n",
      "Requirement already satisfied: idna<2.7,>=2.5 in c:\\users\\maggie\\anaconda3\\lib\\site-packages (from requests->fhirclient) (2.6)\n",
      "Requirement already satisfied: urllib3<1.23,>=1.21.1 in c:\\users\\maggie\\anaconda3\\lib\\site-packages (from requests->fhirclient) (1.22)\n",
      "Requirement already satisfied: certifi>=2017.4.17 in c:\\users\\maggie\\anaconda3\\lib\\site-packages (from requests->fhirclient) (2018.1.18)\n",
      "Requirement already satisfied: six in c:\\users\\maggie\\anaconda3\\lib\\site-packages (from isodate->fhirclient) (1.11.0)\n"
     ]
    }
   ],
   "source": [
    "# Install the Python FHIR client package in the current Jupyter kernel using pip\n",
    "import sys\n",
    "!{sys.executable} -m pip install fhirclient"
   ]
  },
  {
   "cell_type": "code",
   "execution_count": 2,
   "metadata": {},
   "outputs": [
    {
     "name": "stdout",
     "output_type": "stream",
     "text": [
      "FHIR client library has been loaded\n"
     ]
    }
   ],
   "source": [
    "# Import the client library that understands how to make FHIR calls and interpret the results\n",
    "#  Remember to import: client, datetime, requests, and json\n",
    "#  Then print 'FHIR client library has been loaded'\n",
    "from fhirclient import client\n",
    "import datetime\n",
    "from datetime import timedelta\n",
    "from datetime import date\n",
    "from dateutil.relativedelta import relativedelta\n",
    "import requests\n",
    "import json\n",
    "print('FHIR client library has been loaded')"
   ]
  },
  {
   "cell_type": "markdown",
   "metadata": {},
   "source": [
    "## Find a patient with relevant variables"
   ]
  },
  {
   "cell_type": "markdown",
   "metadata": {},
   "source": [
    "*Hint: Use the URL https://fhirtest.uhn.ca/baseDstu3/ [resource]?code=[loinc]*"
   ]
  },
  {
   "cell_type": "markdown",
   "metadata": {},
   "source": [
    "## Load the data and get basic demographics"
   ]
  },
  {
   "cell_type": "code",
   "execution_count": 3,
   "metadata": {
    "collapsed": true
   },
   "outputs": [],
   "source": [
    "#Load the Patient from the database, and display demographics\n",
    "# Define the FHIR Endpoint. We define the name of this app (used in SMART calls), and the location of the server\n",
    "settings = {\n",
    "    'app_id': 'my_web_app',\n",
    "    'api_base': 'https://fhirtest.uhn.ca/baseDstu3'\n",
    "}"
   ]
  },
  {
   "cell_type": "code",
   "execution_count": 4,
   "metadata": {
    "collapsed": true
   },
   "outputs": [],
   "source": [
    "# Create an 'instance' of the FHIR library that points to the FHIR server. We use this to make the calls.\n",
    "db = client.FHIRClient(settings=settings)"
   ]
  },
  {
   "cell_type": "code",
   "execution_count": 5,
   "metadata": {},
   "outputs": [
    {
     "name": "stdout",
     "output_type": "stream",
     "text": [
      "Reading patient, please wait...\n"
     ]
    }
   ],
   "source": [
    "# Perform a GET (read) on the patient with the ID you identified earlier\n",
    "import fhirclient.models.patient as p\n",
    "patient = p.Patient.read('2789048', db.server)"
   ]
  },
  {
   "cell_type": "markdown",
   "metadata": {},
   "source": [
    "## *Optional: get basic demographics*"
   ]
  },
  {
   "cell_type": "code",
   "execution_count": 6,
   "metadata": {},
   "outputs": [
    {
     "name": "stdout",
     "output_type": "stream",
     "text": [
      "Patient's Name(s) =  Avinash Kamath\n"
     ]
    }
   ],
   "source": [
    "# Patient name. A Patient can have more than one name (ie Patient.name is multiple)\n",
    "for name in patient.name:\n",
    "    first_name = name.given[0]\n",
    "    last_name = name.family"
   ]
  },
  {
   "cell_type": "code",
   "execution_count": 7,
   "metadata": {},
   "outputs": [
    {
     "name": "stdout",
     "output_type": "stream",
     "text": [
      "Gender =  male\n"
     ]
    }
   ],
   "source": [
    "# Patient's gender\n",
    "gender = patient.gender"
   ]
  },
  {
   "cell_type": "code",
   "execution_count": 8,
   "metadata": {},
   "outputs": [
    {
     "name": "stdout",
     "output_type": "stream",
     "text": [
      "DOB =  1993-09-16\n"
     ]
    }
   ],
   "source": [
    "# Define variable DOB as the patient's date of birth in a string format (so it can be displayed)\n",
    "DOB = patient.birthDate.isostring"
   ]
  },
  {
   "cell_type": "code",
   "execution_count": 11,
   "metadata": {},
   "outputs": [
    {
     "name": "stdout",
     "output_type": "stream",
     "text": [
      "Today's Date =  2018-09-19 16:29:31.365703\n"
     ]
    }
   ],
   "source": [
    "# Define and print today variable. We'll use this for the age (coming up next)\n",
    "now = datetime.datetime.today()"
   ]
  },
  {
   "cell_type": "code",
   "execution_count": 12,
   "metadata": {
    "collapsed": true
   },
   "outputs": [],
   "source": [
    "# Now get the patients age using the relativedelta library function. Don't sweat the details!\n",
    "#Define DOB2 date object\n",
    "DOB2 = datetime.datetime.strptime(DOB, '%Y-%m-%d')"
   ]
  },
  {
   "cell_type": "code",
   "execution_count": 13,
   "metadata": {},
   "outputs": [
    {
     "name": "stdout",
     "output_type": "stream",
     "text": [
      "Patient's age =  25\n"
     ]
    }
   ],
   "source": [
    "# Calcuate patient's age using rdelta method of the dateutil module\n",
    "rdelta = relativedelta(now, DOB2)\n",
    "age=rdelta.years"
   ]
  },
  {
   "cell_type": "code",
   "execution_count": 14,
   "metadata": {},
   "outputs": [
    {
     "name": "stdout",
     "output_type": "stream",
     "text": [
      "Patient's Name(s) =  Avinash Kamath\n",
      "Gender =  male\n",
      "DOB =  1993-09-16\n",
      "Today's Date =  2018-09-19 16:29:31.365703\n",
      "Patient's age =  25\n"
     ]
    }
   ],
   "source": [
    "# Print patient name, gender, DOB, age, and today's date\n",
    "print ('Patient\\'s Name(s) = ',first_name,last_name)\n",
    "print ('Gender = ',gender)\n",
    "print ('DOB = ', DOB)\n",
    "print ('Today\\'s Date = ', now)\n",
    "print ('Patient\\'s age = ',age)"
   ]
  },
  {
   "cell_type": "markdown",
   "metadata": {},
   "source": [
    "## Query database for relevant information"
   ]
  },
  {
   "cell_type": "code",
   "execution_count": 15,
   "metadata": {},
   "outputs": [
    {
     "name": "stdout",
     "output_type": "stream",
     "text": [
      "Query:  Observation?patient=Patient%2F2789048&code=3141-9&_sort=-date\n",
      "75.4 Kg\n"
     ]
    }
   ],
   "source": [
    "#Query database for weight and print it with units\n",
    "#  Remember to find the LOINC for weight\n",
    "import fhirclient.models.observation as obs   #allows search of Observation resources\n",
    "# specify the search, setting the patient, the code we want and in descending order by date\n",
    "search = obs.Observation.where(struct={'patient':\"Patient/2789048\",'code':\"3141-9\",'_sort':'-date'})\n",
    "\n",
    "#show the actual url that is generated\n",
    "url = search.construct()\n",
    "print('Query: ', url)\n",
    "\n",
    "weight = search.perform_resources(db.server)\n",
    "if weight:\n",
    "    weight_val = weight[0].valueQuantity.value\n",
    "    print(str(weight_val) + \" \" + weight[0].valueQuantity.unit)"
   ]
  },
  {
   "cell_type": "code",
   "execution_count": 16,
   "metadata": {},
   "outputs": [
    {
     "name": "stdout",
     "output_type": "stream",
     "text": [
      "Query:  Observation?patient=Patient%2F2789048&code=8302-2&_sort=-date\n",
      "90 cm\n"
     ]
    }
   ],
   "source": [
    "#Query database for height and print it with units\n",
    "#  Remember to find the LOINC for height\n",
    "import fhirclient.models.observation as obs   #allows search of Observation resources\n",
    "# specify the search, setting the patient, the code we want and in descending order by date\n",
    "search = obs.Observation.where(struct={'patient':\"Patient/2789048\",'code':\"8302-2\",'_sort':'-date'})\n",
    "\n",
    "#show the actual url that is generated\n",
    "url = search.construct()\n",
    "print('Query: ', url)\n",
    "\n",
    "height = search.perform_resources(db.server)\n",
    "if height:\n",
    "    height_val = height[0].valueQuantity.value\n",
    "    print(str(height_val) + \" \" + height[0].valueQuantity.unit)"
   ]
  },
  {
   "cell_type": "markdown",
   "metadata": {},
   "source": [
    "## Calculate BMI"
   ]
  },
  {
   "cell_type": "code",
   "execution_count": 19,
   "metadata": {},
   "outputs": [
    {
     "data": {
      "text/plain": [
       "93.1"
      ]
     },
     "execution_count": 19,
     "metadata": {},
     "output_type": "execute_result"
    }
   ],
   "source": [
    "# Calculate BMI to one decimal\n",
    "bmi = weight_val/((height_val/100)**2)\n",
    "bmi = round(bmi,1)\n",
    "bmi"
   ]
  },
  {
   "cell_type": "code",
   "execution_count": 21,
   "metadata": {},
   "outputs": [
    {
     "name": "stdout",
     "output_type": "stream",
     "text": [
      "BMI indicates patient is obese\n"
     ]
    }
   ],
   "source": [
    "#check BMI category\n",
    "#    Hint: See https://www.nhlbi.nih.gov/health/educational/lose_wt/risk.htm for categories\n",
    "if bmi<18.5:\n",
    "    print(\"BMI indicates patient is underweight\")\n",
    "elif 18.5<=bmi<=24.9:\n",
    "    print(\"BMI indicates patient is within normal weight range\")\n",
    "elif 25<=bmi<=29.9:\n",
    "    print(\"BMI indicates patient is overweight\")\n",
    "else:\n",
    "    print(\"BMI indicates patient is obese\")"
   ]
  },
  {
   "cell_type": "code",
   "execution_count": null,
   "metadata": {
    "collapsed": true
   },
   "outputs": [],
   "source": []
  }
 ],
 "metadata": {
  "anaconda-cloud": {},
  "kernelspec": {
   "display_name": "Python 3",
   "language": "python",
   "name": "python3"
  },
  "language_info": {
   "codemirror_mode": {
    "name": "ipython",
    "version": 3
   },
   "file_extension": ".py",
   "mimetype": "text/x-python",
   "name": "python",
   "nbconvert_exporter": "python",
   "pygments_lexer": "ipython3",
   "version": "3.6.3"
  }
 },
 "nbformat": 4,
 "nbformat_minor": 1
}
