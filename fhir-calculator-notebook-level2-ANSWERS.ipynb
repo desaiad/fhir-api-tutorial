{
 "cells": [
  {
   "cell_type": "markdown",
   "metadata": {},
   "source": [
    "Architecture of a FHIR app:\n",
    "![image](https://cdn-images-1.medium.com/max/1200/1*qRd-H-cPHAGTB993sNLy3Q.png)\n",
    "(from https://blog.heliossoftware.com/fhir-architectural-patterns-ae828b13d40c)"
   ]
  },
  {
   "cell_type": "markdown",
   "metadata": {},
   "source": [
    "## BMI Calculator - ANSWERS"
   ]
  },
  {
   "cell_type": "markdown",
   "metadata": {},
   "source": [
    "**Use Case**\n",
    "A nurse practitioner wants to calculate a patient's body mass index (BMI). \n",
    "\n",
    "\n",
    "**Define Functional requirements**  \n",
    "Step 1 - Define required clinical data elements  \n",
    "- Patient height\n",
    "- Patient weight\n",
    "    \n",
    "  \n",
    "Step 2 - Identify FHIR Resources to support use case data (http://hl7.org/fhir/resourcelist.html)\n",
    "- Patient height: Observation resource http://hl7.org/fhir/observation.html\n",
    "- Patient weight: Observation resource http://hl7.org/fhir/observation.html\n",
    "\n",
    "Step 3 - Identify data elements within each FHIR Resource definition necessary to support use case data\n",
    "\n",
    "There are several with minor differences in meaning. Here we will use:\n",
    "- Patient height: 8302-2\n",
    "- Patient weight: 29463-7"
   ]
  },
  {
   "cell_type": "markdown",
   "metadata": {},
   "source": [
    "## Initialize the environment to run the application"
   ]
  },
  {
   "cell_type": "code",
   "execution_count": 17,
   "metadata": {
    "ExecuteTime": {
     "end_time": "2020-09-09T21:57:56.545636Z",
     "start_time": "2020-09-09T21:57:46.594803Z"
    }
   },
   "outputs": [
    {
     "name": "stdout",
     "output_type": "stream",
     "text": [
      "Collecting git+https://github.com/smart-on-fhir/client-py.git\n",
      "  Cloning https://github.com/smart-on-fhir/client-py.git to /private/var/folders/rf/vnwqfm1s1bv29t28qfk6k9lm0000gn/T/pip-req-build-7lw8ijsg\n",
      "  Running command git clone -q https://github.com/smart-on-fhir/client-py.git /private/var/folders/rf/vnwqfm1s1bv29t28qfk6k9lm0000gn/T/pip-req-build-7lw8ijsg\n",
      "  Running command git submodule update --init --recursive -q\n",
      "Requirement already satisfied: requests in /Users/hannah/anaconda3/envs/general_jupyter/lib/python3.7/site-packages (from fhirclient==4.0.0) (2.23.0)\n",
      "Requirement already satisfied: isodate in /Users/hannah/anaconda3/envs/general_jupyter/lib/python3.7/site-packages (from fhirclient==4.0.0) (0.6.0)\n",
      "Requirement already satisfied: idna<3,>=2.5 in /Users/hannah/anaconda3/envs/general_jupyter/lib/python3.7/site-packages (from requests->fhirclient==4.0.0) (2.9)\n",
      "Requirement already satisfied: chardet<4,>=3.0.2 in /Users/hannah/anaconda3/envs/general_jupyter/lib/python3.7/site-packages (from requests->fhirclient==4.0.0) (3.0.4)\n",
      "Requirement already satisfied: urllib3!=1.25.0,!=1.25.1,<1.26,>=1.21.1 in /Users/hannah/anaconda3/envs/general_jupyter/lib/python3.7/site-packages (from requests->fhirclient==4.0.0) (1.25.9)\n",
      "Requirement already satisfied: certifi>=2017.4.17 in /Users/hannah/anaconda3/envs/general_jupyter/lib/python3.7/site-packages (from requests->fhirclient==4.0.0) (2020.6.20)\n",
      "Requirement already satisfied: six in /Users/hannah/anaconda3/envs/general_jupyter/lib/python3.7/site-packages (from isodate->fhirclient==4.0.0) (1.14.0)\n",
      "Building wheels for collected packages: fhirclient\n",
      "  Building wheel for fhirclient (setup.py) ... \u001b[?25ldone\n",
      "\u001b[?25h  Created wheel for fhirclient: filename=fhirclient-4.0.0-py2.py3-none-any.whl size=682982 sha256=8deca7a44ec4ca73a4f6e47118c2098c93b13db891ff4459c2816e7d27561a4b\n",
      "  Stored in directory: /private/var/folders/rf/vnwqfm1s1bv29t28qfk6k9lm0000gn/T/pip-ephem-wheel-cache-vr_kjhvm/wheels/0a/b6/d6/645668a711b21c1934ecc4acb01f1fc9799afe8da3c9ee8f44\n",
      "Successfully built fhirclient\n",
      "Installing collected packages: fhirclient\n",
      "  Attempting uninstall: fhirclient\n",
      "    Found existing installation: fhirclient 3.2.0\n",
      "    Uninstalling fhirclient-3.2.0:\n",
      "      Successfully uninstalled fhirclient-3.2.0\n",
      "Successfully installed fhirclient-4.0.0\n"
     ]
    }
   ],
   "source": [
    "# Install the Python FHIR client package in the current Jupyter kernel using pip\n",
    "import sys\n",
    "!{sys.executable} -m pip install git+https://github.com/smart-on-fhir/client-py.git"
   ]
  },
  {
   "cell_type": "code",
   "execution_count": 1,
   "metadata": {
    "ExecuteTime": {
     "end_time": "2020-09-09T21:58:19.224464Z",
     "start_time": "2020-09-09T21:58:19.018460Z"
    }
   },
   "outputs": [
    {
     "name": "stdout",
     "output_type": "stream",
     "text": [
      "FHIR client library has been loaded\n"
     ]
    }
   ],
   "source": [
    "# Import the client library that understands how to make FHIR calls and \n",
    "# interpret the results\n",
    "#  Then print 'FHIR client library has been loaded'\n",
    "from fhirclient import client\n",
    "print('FHIR client library has been loaded')"
   ]
  },
  {
   "cell_type": "markdown",
   "metadata": {},
   "source": [
    "## Find a patient with relevant variables"
   ]
  },
  {
   "cell_type": "markdown",
   "metadata": {},
   "source": [
    "*Hint: Use the URL https://hapi.fhir.org/baseR4/[resource]?code=[loinc]*\n",
    "\n",
    "Here we will use patient 431798"
   ]
  },
  {
   "cell_type": "code",
   "execution_count": 2,
   "metadata": {
    "ExecuteTime": {
     "end_time": "2020-09-09T21:58:21.524152Z",
     "start_time": "2020-09-09T21:58:21.521572Z"
    }
   },
   "outputs": [],
   "source": [
    "patientId = \"431798\""
   ]
  },
  {
   "cell_type": "markdown",
   "metadata": {},
   "source": [
    "## Load the data and get basic demographics"
   ]
  },
  {
   "cell_type": "code",
   "execution_count": 3,
   "metadata": {
    "ExecuteTime": {
     "end_time": "2020-09-09T21:58:23.284195Z",
     "start_time": "2020-09-09T21:58:23.281444Z"
    }
   },
   "outputs": [],
   "source": [
    "# Load the Patient from the database, and display demographics\n",
    "#   Define the FHIR Endpoint. We define the name of this app (used in SMART \n",
    "#   calls), and the location of the server\n",
    "settings = {\n",
    "    'app_id': 'my_web_app',\n",
    "    'api_base': 'https://hapi.fhir.org/baseR4'\n",
    "}"
   ]
  },
  {
   "cell_type": "code",
   "execution_count": 4,
   "metadata": {
    "ExecuteTime": {
     "end_time": "2020-09-09T21:58:24.741653Z",
     "start_time": "2020-09-09T21:58:24.738485Z"
    }
   },
   "outputs": [],
   "source": [
    "# Create an instance of the FHIR client that points to this FHIR server. We use \n",
    "# this to make the calls.\n",
    "db = client.FHIRClient(settings=settings)"
   ]
  },
  {
   "cell_type": "code",
   "execution_count": 5,
   "metadata": {
    "ExecuteTime": {
     "end_time": "2020-09-09T21:58:26.119695Z",
     "start_time": "2020-09-09T21:58:25.586280Z"
    }
   },
   "outputs": [],
   "source": [
    "# Perform a GET (read) on the patient with the ID you identified earlier\n",
    "from fhirclient.models.patient import Patient\n",
    "patient = Patient.read(patientId, db.server)"
   ]
  },
  {
   "cell_type": "code",
   "execution_count": 42,
   "metadata": {
    "ExecuteTime": {
     "end_time": "2020-09-09T22:15:04.733318Z",
     "start_time": "2020-09-09T22:15:04.724708Z"
    }
   },
   "outputs": [
    {
     "data": {
      "text/plain": [
       "{'id': '431798',\n",
       " 'meta': {'lastUpdated': '2019-12-16T15:28:18.377+00:00',\n",
       "  'source': '#1D6a5ZvM9ldncHf3',\n",
       "  'versionId': '1'},\n",
       " 'extension': [{'extension': [{'url': 'ombCategory',\n",
       "     'valueCoding': {'code': '2106-3',\n",
       "      'display': 'White',\n",
       "      'system': 'urn:oid:2.16.840.1.113883.6.238'}},\n",
       "    {'url': 'text', 'valueString': 'White'}],\n",
       "   'url': 'http://hl7.org/fhir/us/core/StructureDefinition/us-core-race'},\n",
       "  {'extension': [{'url': 'ombCategory',\n",
       "     'valueCoding': {'code': '2186-5',\n",
       "      'display': 'Not Hispanic or Latino',\n",
       "      'system': 'urn:oid:2.16.840.1.113883.6.238'}},\n",
       "    {'url': 'text', 'valueString': 'Not Hispanic or Latino'}],\n",
       "   'url': 'http://hl7.org/fhir/us/core/StructureDefinition/us-core-ethnicity'},\n",
       "  {'url': 'http://hl7.org/fhir/StructureDefinition/patient-mothersMaidenName',\n",
       "   'valueString': 'Drusilla108 McCullough561'},\n",
       "  {'url': 'http://hl7.org/fhir/us/core/StructureDefinition/us-core-birthsex',\n",
       "   'valueCode': 'M'},\n",
       "  {'url': 'http://hl7.org/fhir/StructureDefinition/patient-birthPlace',\n",
       "   'valueAddress': {'city': 'Freetown',\n",
       "    'country': 'US',\n",
       "    'state': 'Massachusetts'}},\n",
       "  {'url': 'http://synthetichealth.github.io/synthea/disability-adjusted-life-years',\n",
       "   'valueDecimal': 1.9423992550786615},\n",
       "  {'url': 'http://synthetichealth.github.io/synthea/quality-adjusted-life-years',\n",
       "   'valueDecimal': 64.05760074492134}],\n",
       " 'text': {'div': '<div xmlns=\"http://www.w3.org/1999/xhtml\">Generated by <a href=\"https://github.com/synthetichealth/synthea\">Synthea</a>.Version identifier: v2.4.0-483-gad18e5f2\\n .   Person seed: 728868915602178882  Population seed: 1576508872655</div>',\n",
       "  'status': 'generated'},\n",
       " 'address': [{'extension': [{'extension': [{'url': 'latitude',\n",
       "       'valueDecimal': 41.90289891784775},\n",
       "      {'url': 'longitude', 'valueDecimal': -71.3183625519053}],\n",
       "     'url': 'http://hl7.org/fhir/StructureDefinition/geolocation'}],\n",
       "   'city': 'Attleboro',\n",
       "   'country': 'US',\n",
       "   'line': ['404 Wilkinson Light'],\n",
       "   'state': 'Massachusetts'}],\n",
       " 'birthDate': '1952-01-10',\n",
       " 'communication': [{'language': {'coding': [{'code': 'en-US',\n",
       "      'display': 'English',\n",
       "      'system': 'urn:ietf:bcp:47'}],\n",
       "    'text': 'English'}}],\n",
       " 'gender': 'male',\n",
       " 'identifier': [{'system': 'https://github.com/synthetichealth/synthea',\n",
       "   'value': '4f7487b0-5ee2-4407-ba28-13dbfd88c5cb'},\n",
       "  {'system': 'http://hospital.smarthealthit.org',\n",
       "   'type': {'coding': [{'code': 'MR',\n",
       "      'display': 'Medical Record Number',\n",
       "      'system': 'http://terminology.hl7.org/CodeSystem/v2-0203'}],\n",
       "    'text': 'Medical Record Number'},\n",
       "   'value': '4f7487b0-5ee2-4407-ba28-13dbfd88c5cb'},\n",
       "  {'system': 'http://hl7.org/fhir/sid/us-ssn',\n",
       "   'type': {'coding': [{'code': 'SS',\n",
       "      'display': 'Social Security Number',\n",
       "      'system': 'http://terminology.hl7.org/CodeSystem/v2-0203'}],\n",
       "    'text': 'Social Security Number'},\n",
       "   'value': '999-11-4291'},\n",
       "  {'system': 'urn:oid:2.16.840.1.113883.4.3.25',\n",
       "   'type': {'coding': [{'code': 'DL',\n",
       "      'display': \"Driver's License\",\n",
       "      'system': 'http://terminology.hl7.org/CodeSystem/v2-0203'}],\n",
       "    'text': \"Driver's License\"},\n",
       "   'value': 'S99961908'},\n",
       "  {'system': 'http://standardhealthrecord.org/fhir/StructureDefinition/passportNumber',\n",
       "   'type': {'coding': [{'code': 'PPN',\n",
       "      'display': 'Passport Number',\n",
       "      'system': 'http://terminology.hl7.org/CodeSystem/v2-0203'}],\n",
       "    'text': 'Passport Number'},\n",
       "   'value': 'X53121198X'}],\n",
       " 'maritalStatus': {'coding': [{'code': 'M',\n",
       "    'display': 'M',\n",
       "    'system': 'http://terminology.hl7.org/CodeSystem/v3-MaritalStatus'}],\n",
       "  'text': 'M'},\n",
       " 'multipleBirthBoolean': False,\n",
       " 'name': [{'family': 'Cronin387',\n",
       "   'given': ['Olin642'],\n",
       "   'prefix': ['Mr.'],\n",
       "   'use': 'official'}],\n",
       " 'telecom': [{'system': 'phone', 'use': 'home', 'value': '555-836-9763'}],\n",
       " 'resourceType': 'Patient'}"
      ]
     },
     "execution_count": 42,
     "metadata": {},
     "output_type": "execute_result"
    }
   ],
   "source": [
    "patient.as_json()"
   ]
  },
  {
   "cell_type": "markdown",
   "metadata": {},
   "source": [
    "## *Optional: get basic demographics*"
   ]
  },
  {
   "cell_type": "code",
   "execution_count": 7,
   "metadata": {
    "ExecuteTime": {
     "end_time": "2020-09-09T21:58:39.885463Z",
     "start_time": "2020-09-09T21:58:39.882603Z"
    }
   },
   "outputs": [
    {
     "name": "stdout",
     "output_type": "stream",
     "text": [
      "[<fhirclient.models.humanname.HumanName object at 0x1050a5190>]\n"
     ]
    }
   ],
   "source": [
    "# Patient name. \n",
    "# Show the name object so we can see what's in it\n",
    "print(patient.name)"
   ]
  },
  {
   "cell_type": "markdown",
   "metadata": {},
   "source": [
    "The patient's name is a list of `HumanName`s. We can find out about the structure of this data type on the FHIR website: https://www.hl7.org/fhir/datatypes.html#HumanName"
   ]
  },
  {
   "cell_type": "code",
   "execution_count": 8,
   "metadata": {
    "ExecuteTime": {
     "end_time": "2020-09-09T21:58:53.996643Z",
     "start_time": "2020-09-09T21:58:53.993372Z"
    }
   },
   "outputs": [
    {
     "name": "stdout",
     "output_type": "stream",
     "text": [
      "{'family': 'Cronin387', 'given': ['Olin642'], 'prefix': ['Mr.'], 'use': 'official'}\n"
     ]
    }
   ],
   "source": [
    "# Show the contents of each object in the list\n",
    "for name in patient.name:\n",
    "    print(name.as_json())"
   ]
  },
  {
   "cell_type": "code",
   "execution_count": 9,
   "metadata": {
    "ExecuteTime": {
     "end_time": "2020-09-09T21:59:08.133561Z",
     "start_time": "2020-09-09T21:59:08.129568Z"
    }
   },
   "outputs": [
    {
     "name": "stdout",
     "output_type": "stream",
     "text": [
      "Olin642 Cronin387\n"
     ]
    }
   ],
   "source": [
    "# We see that a Patient can have more than one name (i.e. Patient.name is a list)\n",
    "# and each name can have more than one given name (i.e. given is also a list).\n",
    "# Let's use the first name in the list and the first given name:\n",
    "first_name = patient.name[0].given[0]\n",
    "last_name = patient.name[0].family\n",
    "print(first_name, last_name)"
   ]
  },
  {
   "cell_type": "code",
   "execution_count": 10,
   "metadata": {
    "ExecuteTime": {
     "end_time": "2020-09-09T21:59:11.269973Z",
     "start_time": "2020-09-09T21:59:11.265540Z"
    }
   },
   "outputs": [
    {
     "data": {
      "text/plain": [
       "'male'"
      ]
     },
     "execution_count": 10,
     "metadata": {},
     "output_type": "execute_result"
    }
   ],
   "source": [
    "# Patient's gender\n",
    "gender = patient.gender\n",
    "gender"
   ]
  },
  {
   "cell_type": "code",
   "execution_count": 12,
   "metadata": {
    "ExecuteTime": {
     "end_time": "2020-09-09T21:59:19.125587Z",
     "start_time": "2020-09-09T21:59:19.122290Z"
    }
   },
   "outputs": [
    {
     "name": "stdout",
     "output_type": "stream",
     "text": [
      "1952-01-10\n"
     ]
    }
   ],
   "source": [
    "# Define variable dob as the patient's date of birth\n",
    "dob = patient.birthDate.date\n",
    "print(dob)"
   ]
  },
  {
   "cell_type": "code",
   "execution_count": 13,
   "metadata": {
    "ExecuteTime": {
     "end_time": "2020-09-09T21:59:29.627517Z",
     "start_time": "2020-09-09T21:59:29.623928Z"
    }
   },
   "outputs": [
    {
     "name": "stdout",
     "output_type": "stream",
     "text": [
      "2020-09-09\n"
     ]
    }
   ],
   "source": [
    "# We'd like to know the patient's age. The EHR contains the date of birth only, \n",
    "# so we have to calculate the age using the dob and today's date.\n",
    "# For this we need the datetime library\n",
    "import datetime\n",
    "\n",
    "# Define and print today variable.\n",
    "today = datetime.date.today()\n",
    "print(today)"
   ]
  },
  {
   "cell_type": "code",
   "execution_count": 14,
   "metadata": {
    "ExecuteTime": {
     "end_time": "2020-09-09T21:59:35.173800Z",
     "start_time": "2020-09-09T21:59:35.169538Z"
    }
   },
   "outputs": [
    {
     "data": {
      "text/plain": [
       "68"
      ]
     },
     "execution_count": 14,
     "metadata": {},
     "output_type": "execute_result"
    }
   ],
   "source": [
    "# Calculate the patient's age using the relativedelta method of the dateutil \n",
    "# module\n",
    "from dateutil.relativedelta import relativedelta\n",
    "\n",
    "delta = relativedelta(today, dob)\n",
    "age = delta.years\n",
    "age"
   ]
  },
  {
   "cell_type": "code",
   "execution_count": 15,
   "metadata": {
    "ExecuteTime": {
     "end_time": "2020-09-09T21:59:39.334337Z",
     "start_time": "2020-09-09T21:59:39.329435Z"
    }
   },
   "outputs": [
    {
     "name": "stdout",
     "output_type": "stream",
     "text": [
      "Patient's Name(s) = Olin642 Cronin387\n",
      "Gender = male\n",
      "DOB = 1952-01-10\n",
      "Today's Date = 2020-09-09\n",
      "Patient's age = 68\n"
     ]
    }
   ],
   "source": [
    "# Print patient name, gender, DOB, age, and today's date\n",
    "print(\"Patient's Name(s) =\", first_name, last_name)\n",
    "print(\"Gender =\", gender)\n",
    "print(\"DOB =\", dob)\n",
    "print(\"Today's Date =\", today)\n",
    "print(\"Patient's age =\", age)"
   ]
  },
  {
   "cell_type": "markdown",
   "metadata": {},
   "source": [
    "## Query database for relevant information"
   ]
  },
  {
   "cell_type": "code",
   "execution_count": 18,
   "metadata": {
    "ExecuteTime": {
     "end_time": "2020-09-09T22:01:11.975465Z",
     "start_time": "2020-09-09T22:01:11.961820Z"
    }
   },
   "outputs": [
    {
     "name": "stdout",
     "output_type": "stream",
     "text": [
      "Query:  Observation?patient=Patient%2F431798&code=29463-7&_sort=-date\n"
     ]
    }
   ],
   "source": [
    "#Query database for weight (using the LOINC code for weight) and print it with units\n",
    "\n",
    "# allows search of Observation resources\n",
    "from fhirclient.models.observation import Observation\n",
    "\n",
    "# specify the search, setting the patient, the code we want and the sort order \n",
    "# (descending order by date)\n",
    "search = Observation.where(\n",
    "    struct={'patient': \"Patient/\"+patientId, 'code': \"29463-7\", '_sort': '-date'})\n",
    "\n",
    "# show the actual url that is generated\n",
    "url = search.construct()\n",
    "print('Query: ', url)"
   ]
  },
  {
   "cell_type": "markdown",
   "metadata": {},
   "source": [
    "Note that all we need to do to execute this query is to open the URL. Try it by visiting the following link in your browser:"
   ]
  },
  {
   "cell_type": "code",
   "execution_count": 25,
   "metadata": {
    "ExecuteTime": {
     "end_time": "2020-09-09T22:03:40.803991Z",
     "start_time": "2020-09-09T22:03:40.800640Z"
    }
   },
   "outputs": [
    {
     "name": "stdout",
     "output_type": "stream",
     "text": [
      "https://hapi.fhir.org/baseR4/Observation?patient=Patient%2F431798&code=29463-7&_sort=-date\n"
     ]
    }
   ],
   "source": [
    "print(db.server.base_uri + url)"
   ]
  },
  {
   "cell_type": "code",
   "execution_count": 27,
   "metadata": {
    "ExecuteTime": {
     "end_time": "2020-09-09T22:05:44.608132Z",
     "start_time": "2020-09-09T22:05:44.495726Z"
    }
   },
   "outputs": [
    {
     "data": {
      "text/plain": [
       "{'id': '432348',\n",
       " 'meta': {'lastUpdated': '2019-12-16T15:28:18.377+00:00',\n",
       "  'source': '#1D6a5ZvM9ldncHf3',\n",
       "  'versionId': '1'},\n",
       " 'category': [{'coding': [{'code': 'vital-signs',\n",
       "     'display': 'vital-signs',\n",
       "     'system': 'http://terminology.hl7.org/CodeSystem/observation-category'}]}],\n",
       " 'code': {'coding': [{'code': '29463-7',\n",
       "    'display': 'Body Weight',\n",
       "    'system': 'http://loinc.org'}],\n",
       "  'text': 'Body Weight'},\n",
       " 'effectiveDateTime': '2019-12-12T18:20:26+01:00',\n",
       " 'encounter': {'reference': 'Encounter/432345'},\n",
       " 'issued': '2019-12-12T18:20:26.977+01:00',\n",
       " 'status': 'final',\n",
       " 'subject': {'reference': 'Patient/431798'},\n",
       " 'valueQuantity': {'code': 'kg',\n",
       "  'system': 'http://unitsofmeasure.org',\n",
       "  'unit': 'kg',\n",
       "  'value': 84},\n",
       " 'resourceType': 'Observation'}"
      ]
     },
     "execution_count": 27,
     "metadata": {},
     "output_type": "execute_result"
    }
   ],
   "source": [
    "# Run the query\n",
    "weight_observations = search.perform_resources(db.server)\n",
    "if not weight_observations:\n",
    "    print(\"No resources returned\")\n",
    "\n",
    "# because we sorted by -date, the most recent weight observation comes first\n",
    "latest_weight = weight_observations[0]\n",
    "latest_weight.as_json()"
   ]
  },
  {
   "cell_type": "markdown",
   "metadata": {},
   "source": [
    "We can also look at the definition of the `Observation` class here: https://www.hl7.org/fhir/observation.html#resource.\n",
    "There we can see that the actual value will be in the `valueQuantity` field, which is of type `Quantity` (https://www.hl7.org/fhir/datatypes.html#quantity), which has fields `value` and `unit` "
   ]
  },
  {
   "cell_type": "code",
   "execution_count": 28,
   "metadata": {
    "ExecuteTime": {
     "end_time": "2020-09-09T22:06:18.594558Z",
     "start_time": "2020-09-09T22:06:18.591260Z"
    }
   },
   "outputs": [
    {
     "name": "stdout",
     "output_type": "stream",
     "text": [
      "84 kg\n"
     ]
    }
   ],
   "source": [
    "weight_value = latest_weight.valueQuantity.value\n",
    "weight_unit = latest_weight.valueQuantity.unit\n",
    "print(weight_value, weight_unit)"
   ]
  },
  {
   "cell_type": "code",
   "execution_count": 29,
   "metadata": {
    "ExecuteTime": {
     "end_time": "2020-09-09T22:06:46.859736Z",
     "start_time": "2020-09-09T22:06:46.855499Z"
    }
   },
   "outputs": [
    {
     "name": "stdout",
     "output_type": "stream",
     "text": [
      "Query:  Observation?patient=Patient%2F431798&code=8302-2&_sort=-date\n"
     ]
    }
   ],
   "source": [
    "# Query the database for height and print it with units\n",
    "#  Remember to find the LOINC for height\n",
    "\n",
    "# specify the new search, setting the patient, the code we want and the sort\n",
    "# order (descending order by date)\n",
    "search = Observation.where(\n",
    "    struct={'patient': \"Patient/\"+patientId, 'code': \"8302-2\", '_sort': '-date'})\n",
    "\n",
    "# show the actual url that is generated\n",
    "url = search.construct()\n",
    "print('Query: ', url)"
   ]
  },
  {
   "cell_type": "code",
   "execution_count": 30,
   "metadata": {
    "ExecuteTime": {
     "end_time": "2020-09-09T22:07:03.910062Z",
     "start_time": "2020-09-09T22:07:03.470906Z"
    }
   },
   "outputs": [
    {
     "data": {
      "text/plain": [
       "{'id': '432346',\n",
       " 'meta': {'lastUpdated': '2019-12-16T15:28:18.377+00:00',\n",
       "  'source': '#1D6a5ZvM9ldncHf3',\n",
       "  'versionId': '1'},\n",
       " 'category': [{'coding': [{'code': 'vital-signs',\n",
       "     'display': 'vital-signs',\n",
       "     'system': 'http://terminology.hl7.org/CodeSystem/observation-category'}]}],\n",
       " 'code': {'coding': [{'code': '8302-2',\n",
       "    'display': 'Body Height',\n",
       "    'system': 'http://loinc.org'}],\n",
       "  'text': 'Body Height'},\n",
       " 'effectiveDateTime': '2019-12-12T18:20:26+01:00',\n",
       " 'encounter': {'reference': 'Encounter/432345'},\n",
       " 'issued': '2019-12-12T18:20:26.977+01:00',\n",
       " 'status': 'final',\n",
       " 'subject': {'reference': 'Patient/431798'},\n",
       " 'valueQuantity': {'code': 'cm',\n",
       "  'system': 'http://unitsofmeasure.org',\n",
       "  'unit': 'cm',\n",
       "  'value': 175.8},\n",
       " 'resourceType': 'Observation'}"
      ]
     },
     "execution_count": 30,
     "metadata": {},
     "output_type": "execute_result"
    }
   ],
   "source": [
    "# height observations have a structure that is the same as the weight observation\n",
    "# structure\n",
    "height_observations = search.perform_resources(db.server)\n",
    "if not height_observations:\n",
    "    print(\"No resources returned\")\n",
    "    \n",
    "latest_height = height_observations[0]\n",
    "latest_height.as_json()"
   ]
  },
  {
   "cell_type": "code",
   "execution_count": 31,
   "metadata": {
    "ExecuteTime": {
     "end_time": "2020-09-09T22:07:06.555845Z",
     "start_time": "2020-09-09T22:07:06.551346Z"
    }
   },
   "outputs": [
    {
     "name": "stdout",
     "output_type": "stream",
     "text": [
      "175.8 cm\n"
     ]
    }
   ],
   "source": [
    "height_value = latest_height.valueQuantity.value\n",
    "height_unit = latest_height.valueQuantity.unit\n",
    "print(height_value, height_unit)"
   ]
  },
  {
   "cell_type": "markdown",
   "metadata": {},
   "source": [
    "## Calculate BMI"
   ]
  },
  {
   "cell_type": "code",
   "execution_count": 32,
   "metadata": {
    "ExecuteTime": {
     "end_time": "2020-09-09T22:07:16.178943Z",
     "start_time": "2020-09-09T22:07:16.174563Z"
    }
   },
   "outputs": [
    {
     "data": {
      "text/plain": [
       "27.2"
      ]
     },
     "execution_count": 32,
     "metadata": {},
     "output_type": "execute_result"
    }
   ],
   "source": [
    "# We now have all the information we need to calculate BMI.\n",
    "# Calculate the BMI to one decimal\n",
    "bmi = weight_value/((height_value/100)**2)\n",
    "bmi = round(bmi, 1)\n",
    "bmi"
   ]
  },
  {
   "cell_type": "code",
   "execution_count": 33,
   "metadata": {
    "ExecuteTime": {
     "end_time": "2020-09-09T22:08:04.693907Z",
     "start_time": "2020-09-09T22:08:04.687895Z"
    }
   },
   "outputs": [
    {
     "name": "stdout",
     "output_type": "stream",
     "text": [
      "BMI indicates patient is overweight\n"
     ]
    }
   ],
   "source": [
    "# check BMI category\n",
    "#    Hint: See https://www.nhlbi.nih.gov/health/educational/lose_wt/risk.htm\n",
    "#    for categories\n",
    "if bmi < 18.5:\n",
    "    print(\"BMI indicates patient is underweight\")\n",
    "elif bmi <= 24.9:\n",
    "    print(\"BMI indicates patient is within normal weight range\")\n",
    "elif bmi <= 29.9:\n",
    "    print(\"BMI indicates patient is overweight\")\n",
    "else:\n",
    "    print(\"BMI indicates patient is obese\")"
   ]
  },
  {
   "cell_type": "code",
   "execution_count": null,
   "metadata": {},
   "outputs": [],
   "source": []
  }
 ],
 "metadata": {
  "anaconda-cloud": {},
  "kernelspec": {
   "display_name": "Python 3",
   "language": "python",
   "name": "python3"
  },
  "language_info": {
   "codemirror_mode": {
    "name": "ipython",
    "version": 3
   },
   "file_extension": ".py",
   "mimetype": "text/x-python",
   "name": "python",
   "nbconvert_exporter": "python",
   "pygments_lexer": "ipython3",
   "version": "3.7.7"
  },
  "toc": {
   "base_numbering": 1,
   "nav_menu": {},
   "number_sections": true,
   "sideBar": true,
   "skip_h1_title": false,
   "title_cell": "Table of Contents",
   "title_sidebar": "Contents",
   "toc_cell": false,
   "toc_position": {},
   "toc_section_display": true,
   "toc_window_display": true
  }
 },
 "nbformat": 4,
 "nbformat_minor": 1
}
