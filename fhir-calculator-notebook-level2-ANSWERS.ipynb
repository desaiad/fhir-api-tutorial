{
 "cells": [
  {
   "attachments": {},
   "cell_type": "markdown",
   "metadata": {},
   "source": [
    "Architecture of a FHIR app:\n",
    "![image](https://cdn-images-1.medium.com/max/1200/1*qRd-H-cPHAGTB993sNLy3Q.png)\n",
    "(from https://blog.heliossoftware.com/fhir-architectural-patterns-ae828b13d40c)"
   ]
  },
  {
   "cell_type": "markdown",
   "metadata": {},
   "source": [
    "## BMI Calculator - ANSWERS"
   ]
  },
  {
   "cell_type": "markdown",
   "metadata": {},
   "source": [
    "**Use Case**\n",
    "A nurse practitioner wants to calculate a patient's body mass index (BMI). \n",
    "\n",
    "\n",
    "**Define Functional requirements**  \n",
    "Step 1 - Define required clinical data elements  \n",
    "- Patient height\n",
    "- Patient weight\n",
    "    \n",
    "  \n",
    "Step 2 - Identify FHIR Resources to support use case data (http://hl7.org/fhir/resourcelist.html)\n",
    "- Patient height: Observation resource http://hl7.org/fhir/observation.html\n",
    "- Patient weight: Observation resource http://hl7.org/fhir/observation.html\n",
    "\n",
    "Step 3 - Identify data elements within each FHIR Resource definition necessary to support use case data\n",
    "\n",
    "There are several with minor differences in meaning. Here we will use:\n",
    "- Patient height: 8302-2\n",
    "- Patient weight: 29463-7"
   ]
  },
  {
   "cell_type": "markdown",
   "metadata": {},
   "source": [
    "## Initialize the environment to run the application"
   ]
  },
  {
   "cell_type": "code",
   "execution_count": 1,
   "metadata": {
    "ExecuteTime": {
     "end_time": "2019-04-22T17:01:31.542720Z",
     "start_time": "2019-04-22T17:01:29.252440Z"
    }
   },
   "outputs": [
    {
     "name": "stdout",
     "output_type": "stream",
     "text": [
      "Requirement already satisfied: fhirclient in /Users/hannah/anaconda3/lib/python3.7/site-packages (3.2.0)\n",
      "Requirement already satisfied: requests in /Users/hannah/anaconda3/lib/python3.7/site-packages (from fhirclient) (2.21.0)\n",
      "Requirement already satisfied: isodate in /Users/hannah/anaconda3/lib/python3.7/site-packages (from fhirclient) (0.6.0)\n",
      "Requirement already satisfied: idna<2.9,>=2.5 in /Users/hannah/anaconda3/lib/python3.7/site-packages (from requests->fhirclient) (2.8)\n",
      "Requirement already satisfied: certifi>=2017.4.17 in /Users/hannah/anaconda3/lib/python3.7/site-packages (from requests->fhirclient) (2019.3.9)\n",
      "Requirement already satisfied: urllib3<1.25,>=1.21.1 in /Users/hannah/anaconda3/lib/python3.7/site-packages (from requests->fhirclient) (1.24.1)\n",
      "Requirement already satisfied: chardet<3.1.0,>=3.0.2 in /Users/hannah/anaconda3/lib/python3.7/site-packages (from requests->fhirclient) (3.0.4)\n",
      "Requirement already satisfied: six in /Users/hannah/anaconda3/lib/python3.7/site-packages (from isodate->fhirclient) (1.12.0)\n"
     ]
    }
   ],
   "source": [
    "# Install the Python FHIR client package in the current Jupyter kernel using pip\n",
    "import sys\n",
    "!{sys.executable} -m pip install fhirclient"
   ]
  },
  {
   "cell_type": "code",
   "execution_count": 2,
   "metadata": {
    "ExecuteTime": {
     "end_time": "2019-04-22T17:01:31.752357Z",
     "start_time": "2019-04-22T17:01:31.545395Z"
    }
   },
   "outputs": [
    {
     "name": "stdout",
     "output_type": "stream",
     "text": [
      "FHIR client library has been loaded\n"
     ]
    }
   ],
   "source": [
    "# Import the client library that understands how to make FHIR calls and \n",
    "# interpret the results\n",
    "#  Then print 'FHIR client library has been loaded'\n",
    "from fhirclient import client\n",
    "print('FHIR client library has been loaded')"
   ]
  },
  {
   "cell_type": "markdown",
   "metadata": {},
   "source": [
    "## Find a patient with relevant variables"
   ]
  },
  {
   "cell_type": "markdown",
   "metadata": {},
   "source": [
    "*Hint: Use the URL https://fhirtest.uhn.ca/baseDstu3/ [resource]?code=[loinc]*\n",
    "\n",
    "Here we will use patient 1307586"
   ]
  },
  {
   "cell_type": "code",
   "execution_count": 3,
   "metadata": {
    "ExecuteTime": {
     "end_time": "2019-04-22T17:01:33.821811Z",
     "start_time": "2019-04-22T17:01:33.819267Z"
    }
   },
   "outputs": [],
   "source": [
    "patientId = \"1307586\""
   ]
  },
  {
   "cell_type": "markdown",
   "metadata": {},
   "source": [
    "## Load the data and get basic demographics"
   ]
  },
  {
   "cell_type": "code",
   "execution_count": 4,
   "metadata": {
    "ExecuteTime": {
     "end_time": "2019-04-22T17:01:58.817612Z",
     "start_time": "2019-04-22T17:01:58.813689Z"
    }
   },
   "outputs": [],
   "source": [
    "# Load the Patient from the database, and display demographics\n",
    "#   Define the FHIR Endpoint. We define the name of this app (used in SMART \n",
    "#   calls), and the location of the server\n",
    "settings = {\n",
    "    'app_id': 'my_web_app',\n",
    "    'api_base': 'https://fhirtest.uhn.ca/baseDstu3'\n",
    "}"
   ]
  },
  {
   "cell_type": "code",
   "execution_count": 5,
   "metadata": {
    "ExecuteTime": {
     "end_time": "2019-04-22T17:02:02.167459Z",
     "start_time": "2019-04-22T17:02:02.164785Z"
    }
   },
   "outputs": [],
   "source": [
    "# Create an instance of the FHIR client that points to this FHIR server. We use \n",
    "# this to make the calls.\n",
    "db = client.FHIRClient(settings=settings)"
   ]
  },
  {
   "cell_type": "code",
   "execution_count": 6,
   "metadata": {
    "ExecuteTime": {
     "end_time": "2019-04-22T17:02:13.629186Z",
     "start_time": "2019-04-22T17:02:13.284981Z"
    }
   },
   "outputs": [],
   "source": [
    "# Perform a GET (read) on the patient with the ID you identified earlier\n",
    "import fhirclient.models.patient as p\n",
    "patient = p.Patient.read(patientId, db.server)"
   ]
  },
  {
   "cell_type": "markdown",
   "metadata": {},
   "source": [
    "## *Optional: get basic demographics*"
   ]
  },
  {
   "cell_type": "code",
   "execution_count": 7,
   "metadata": {
    "ExecuteTime": {
     "end_time": "2019-04-22T17:02:23.647731Z",
     "start_time": "2019-04-22T17:02:23.644691Z"
    }
   },
   "outputs": [
    {
     "name": "stdout",
     "output_type": "stream",
     "text": [
      "[<fhirclient.models.humanname.HumanName object at 0x10955feb8>, <fhirclient.models.humanname.HumanName object at 0x109d86080>]\n"
     ]
    }
   ],
   "source": [
    "# Patient name. \n",
    "# Show the name object so we can see what's in it\n",
    "print(patient.name)"
   ]
  },
  {
   "cell_type": "markdown",
   "metadata": {},
   "source": [
    "The patient's name is a list of two `HumanName`s. We can find out about the structure of this data type on the FHIR website: https://www.hl7.org/fhir/datatypes.html#HumanName"
   ]
  },
  {
   "cell_type": "code",
   "execution_count": 27,
   "metadata": {
    "ExecuteTime": {
     "end_time": "2019-04-22T17:16:49.653486Z",
     "start_time": "2019-04-22T17:16:49.648955Z"
    }
   },
   "outputs": [
    {
     "name": "stdout",
     "output_type": "stream",
     "text": [
      "{'family': 'Simonis280', 'given': ['Kelsey155'], 'prefix': ['Mrs.'], 'use': 'official'}\n",
      "{'family': 'Huels583', 'given': ['Kelsey155'], 'prefix': ['Mrs.'], 'use': 'maiden'}\n"
     ]
    }
   ],
   "source": [
    "# Show the contents of each object in the list\n",
    "for name in patient.name:\n",
    "    print(name.as_json())"
   ]
  },
  {
   "cell_type": "code",
   "execution_count": 9,
   "metadata": {
    "ExecuteTime": {
     "end_time": "2019-04-22T17:03:09.291509Z",
     "start_time": "2019-04-22T17:03:09.287080Z"
    }
   },
   "outputs": [
    {
     "name": "stdout",
     "output_type": "stream",
     "text": [
      "Kelsey155 Simonis280\n"
     ]
    }
   ],
   "source": [
    "# We see that a Patient can have more than one name (i.e. Patient.name is a list)\n",
    "# and each name can have more than one given name (i.e. given is also a list).\n",
    "# Let's use the first name in the list and the first given name:\n",
    "first_name = patient.name[0].given[0]\n",
    "last_name = patient.name[0].family\n",
    "print(first_name, last_name)"
   ]
  },
  {
   "cell_type": "code",
   "execution_count": 10,
   "metadata": {
    "ExecuteTime": {
     "end_time": "2019-04-22T17:03:11.375919Z",
     "start_time": "2019-04-22T17:03:11.366756Z"
    }
   },
   "outputs": [
    {
     "data": {
      "text/plain": [
       "'female'"
      ]
     },
     "execution_count": 10,
     "metadata": {},
     "output_type": "execute_result"
    }
   ],
   "source": [
    "# Patient's gender\n",
    "gender = patient.gender\n",
    "gender"
   ]
  },
  {
   "cell_type": "code",
   "execution_count": 11,
   "metadata": {
    "ExecuteTime": {
     "end_time": "2019-04-22T17:03:27.027133Z",
     "start_time": "2019-04-22T17:03:27.023312Z"
    }
   },
   "outputs": [
    {
     "name": "stdout",
     "output_type": "stream",
     "text": [
      "1968-10-24\n"
     ]
    }
   ],
   "source": [
    "# Define variable dob as the patient's date of birth\n",
    "dob = patient.birthDate.date\n",
    "print(dob)"
   ]
  },
  {
   "cell_type": "code",
   "execution_count": 13,
   "metadata": {
    "ExecuteTime": {
     "end_time": "2019-04-22T17:03:56.940465Z",
     "start_time": "2019-04-22T17:03:56.936645Z"
    }
   },
   "outputs": [
    {
     "name": "stdout",
     "output_type": "stream",
     "text": [
      "2019-04-22\n"
     ]
    }
   ],
   "source": [
    "# We'd like to know the patient's age. The EHR contains the date of birth only, \n",
    "# so we have to calculate the age using the dob and today's date.\n",
    "# For this we need the datetime library\n",
    "import datetime\n",
    "\n",
    "# Define and print today variable.\n",
    "today = datetime.date.today()\n",
    "print(today)"
   ]
  },
  {
   "cell_type": "code",
   "execution_count": 14,
   "metadata": {
    "ExecuteTime": {
     "end_time": "2019-04-22T17:04:21.868565Z",
     "start_time": "2019-04-22T17:04:21.863740Z"
    }
   },
   "outputs": [
    {
     "data": {
      "text/plain": [
       "50"
      ]
     },
     "execution_count": 14,
     "metadata": {},
     "output_type": "execute_result"
    }
   ],
   "source": [
    "# Calculate the patient's age using the relativedelta method of the dateutil \n",
    "# module\n",
    "from dateutil.relativedelta import relativedelta\n",
    "\n",
    "delta = relativedelta(today, dob)\n",
    "age = delta.years\n",
    "age"
   ]
  },
  {
   "cell_type": "code",
   "execution_count": 16,
   "metadata": {
    "ExecuteTime": {
     "end_time": "2019-04-22T17:04:34.015060Z",
     "start_time": "2019-04-22T17:04:34.009383Z"
    }
   },
   "outputs": [
    {
     "name": "stdout",
     "output_type": "stream",
     "text": [
      "Patient's Name(s) = Kelsey155 Simonis280\n",
      "Gender = female\n",
      "DOB = 1968-10-24\n",
      "Today's Date = 2019-04-22\n",
      "Patient's age = 50\n"
     ]
    }
   ],
   "source": [
    "# Print patient name, gender, DOB, age, and today's date\n",
    "print(\"Patient's Name(s) =\", first_name, last_name)\n",
    "print(\"Gender =\", gender)\n",
    "print(\"DOB =\", dob)\n",
    "print(\"Today's Date =\", today)\n",
    "print(\"Patient's age =\", age)"
   ]
  },
  {
   "cell_type": "markdown",
   "metadata": {},
   "source": [
    "## Query database for relevant information"
   ]
  },
  {
   "cell_type": "code",
   "execution_count": 17,
   "metadata": {
    "ExecuteTime": {
     "end_time": "2019-04-22T17:05:00.477036Z",
     "start_time": "2019-04-22T17:05:00.449506Z"
    }
   },
   "outputs": [
    {
     "name": "stdout",
     "output_type": "stream",
     "text": [
      "Query:  Observation?patient=Patient%2F1307586&code=29463-7&_sort=-date\n"
     ]
    }
   ],
   "source": [
    "# Query the database for weight and print it with units\n",
    "#  Remember to find the LOINC for weight\n",
    "\n",
    "# allows search of Observation resources\n",
    "import fhirclient.models.observation as obs\n",
    "\n",
    "# specify the search, setting the patient, the code we want and the sort order \n",
    "# (descending order by date)\n",
    "search = obs.Observation.where(\n",
    "    struct={'patient': \"Patient/\"+patientId, 'code': \"29463-7\", '_sort': '-date'})\n",
    "\n",
    "# show the actual url that is generated\n",
    "url = search.construct()\n",
    "print('Query: ', url)"
   ]
  },
  {
   "cell_type": "code",
   "execution_count": 19,
   "metadata": {
    "ExecuteTime": {
     "end_time": "2019-04-22T17:05:12.516298Z",
     "start_time": "2019-04-22T17:05:12.394786Z"
    }
   },
   "outputs": [
    {
     "name": "stdout",
     "output_type": "stream",
     "text": [
      "{'id': '1307717', 'meta': {'lastUpdated': '2019-02-06T19:19:52.586+00:00', 'versionId': '1'}, 'category': [{'coding': [{'code': 'vital-signs', 'display': 'vital-signs', 'system': 'http://hl7.org/fhir/observation-category'}]}], 'code': {'coding': [{'code': '29463-7', 'display': 'Body Weight', 'system': 'http://loinc.org'}], 'text': 'Body Weight'}, 'context': {'reference': 'Encounter/1307714'}, 'effectiveDateTime': '2018-10-25T20:28:46-04:00', 'issued': '2018-10-25T20:28:46.216-04:00', 'status': 'final', 'subject': {'reference': 'Patient/1307586'}, 'valueQuantity': {'code': 'kg', 'system': 'http://unitsofmeasure.org', 'unit': 'kg', 'value': 101.16477135353011}, 'resourceType': 'Observation'}\n"
     ]
    }
   ],
   "source": [
    "# Run the query\n",
    "weight_observations = search.perform_resources(db.server)\n",
    "if weight_observations:\n",
    "    # because we sorted by date, the most recent weight observation comes first\n",
    "    latest_weight = weight_observations[0]\n",
    "    print(latest_weight.as_json())"
   ]
  },
  {
   "cell_type": "markdown",
   "metadata": {},
   "source": [
    "We can also look at the definition of the `Observation` class here: https://www.hl7.org/fhir/observation.html#resource.\n",
    "There we can see that the actual value will be in the `valueQuantity` field, which is of type `Quantity` (https://www.hl7.org/fhir/datatypes.html#quantity), which has fields `value` and `unit` "
   ]
  },
  {
   "cell_type": "code",
   "execution_count": 20,
   "metadata": {
    "ExecuteTime": {
     "end_time": "2019-04-22T17:05:17.028414Z",
     "start_time": "2019-04-22T17:05:17.024953Z"
    }
   },
   "outputs": [
    {
     "name": "stdout",
     "output_type": "stream",
     "text": [
      "101.16477135353011 kg\n"
     ]
    }
   ],
   "source": [
    "weight_value = latest_weight.valueQuantity.value\n",
    "weight_unit = latest_weight.valueQuantity.unit\n",
    "print(weight_value, weight_unit)"
   ]
  },
  {
   "cell_type": "code",
   "execution_count": 21,
   "metadata": {
    "ExecuteTime": {
     "end_time": "2019-04-22T17:05:20.388902Z",
     "start_time": "2019-04-22T17:05:20.384034Z"
    }
   },
   "outputs": [
    {
     "name": "stdout",
     "output_type": "stream",
     "text": [
      "Query:  Observation?patient=Patient%2F1307586&code=8302-2&_sort=-date\n"
     ]
    }
   ],
   "source": [
    "# Query the database for height and print it with units\n",
    "#  Remember to find the LOINC for height\n",
    "\n",
    "# specify the new search, setting the patient, the code we want and the sort\n",
    "# order (descending order by date)\n",
    "search = obs.Observation.where(\n",
    "    struct={'patient': \"Patient/\"+patientId, 'code': \"8302-2\", '_sort': '-date'})\n",
    "\n",
    "# show the actual url that is generated\n",
    "url = search.construct()\n",
    "print('Query: ', url)"
   ]
  },
  {
   "cell_type": "code",
   "execution_count": 22,
   "metadata": {
    "ExecuteTime": {
     "end_time": "2019-04-22T17:05:40.590977Z",
     "start_time": "2019-04-22T17:05:40.474254Z"
    }
   },
   "outputs": [
    {
     "name": "stdout",
     "output_type": "stream",
     "text": [
      "{'id': '1307715', 'meta': {'lastUpdated': '2019-02-06T19:19:52.586+00:00', 'versionId': '1'}, 'category': [{'coding': [{'code': 'vital-signs', 'display': 'vital-signs', 'system': 'http://hl7.org/fhir/observation-category'}]}], 'code': {'coding': [{'code': '8302-2', 'display': 'Body Height', 'system': 'http://loinc.org'}], 'text': 'Body Height'}, 'context': {'reference': 'Encounter/1307714'}, 'effectiveDateTime': '2018-10-25T20:28:46-04:00', 'issued': '2018-10-25T20:28:46.216-04:00', 'status': 'final', 'subject': {'reference': 'Patient/1307586'}, 'valueQuantity': {'code': 'cm', 'system': 'http://unitsofmeasure.org', 'unit': 'cm', 'value': 174.20730086205384}, 'resourceType': 'Observation'}\n"
     ]
    }
   ],
   "source": [
    "# height observations have a structure that is the same as the weight observation\n",
    "# structure\n",
    "height_observations = search.perform_resources(db.server)\n",
    "if height_observations:\n",
    "    latest_height = height_observations[0]\n",
    "    print(latest_height.as_json())"
   ]
  },
  {
   "cell_type": "code",
   "execution_count": 23,
   "metadata": {
    "ExecuteTime": {
     "end_time": "2019-04-22T17:05:44.141637Z",
     "start_time": "2019-04-22T17:05:44.137696Z"
    }
   },
   "outputs": [
    {
     "name": "stdout",
     "output_type": "stream",
     "text": [
      "174.20730086205384 cm\n"
     ]
    }
   ],
   "source": [
    "height_value = latest_height.valueQuantity.value\n",
    "height_unit = latest_height.valueQuantity.unit\n",
    "print(height_value, height_unit)"
   ]
  },
  {
   "cell_type": "markdown",
   "metadata": {},
   "source": [
    "## Calculate BMI"
   ]
  },
  {
   "cell_type": "code",
   "execution_count": 25,
   "metadata": {
    "ExecuteTime": {
     "end_time": "2019-04-22T17:06:15.087382Z",
     "start_time": "2019-04-22T17:06:15.082901Z"
    }
   },
   "outputs": [
    {
     "data": {
      "text/plain": [
       "33.3"
      ]
     },
     "execution_count": 25,
     "metadata": {},
     "output_type": "execute_result"
    }
   ],
   "source": [
    "# We now have all the information we need to calculate BMI.\n",
    "# Calculate the BMI to one decimal\n",
    "bmi = weight_value/((height_value/100)**2)\n",
    "bmi = round(bmi, 1)\n",
    "bmi"
   ]
  },
  {
   "cell_type": "code",
   "execution_count": 26,
   "metadata": {
    "ExecuteTime": {
     "end_time": "2019-04-22T17:06:19.438876Z",
     "start_time": "2019-04-22T17:06:19.433923Z"
    }
   },
   "outputs": [
    {
     "name": "stdout",
     "output_type": "stream",
     "text": [
      "BMI indicates patient is obese\n"
     ]
    }
   ],
   "source": [
    "# check BMI category\n",
    "#    Hint: See https://www.nhlbi.nih.gov/health/educational/lose_wt/risk.htm\n",
    "#    for categories\n",
    "if bmi < 18.5:\n",
    "    print(\"BMI indicates patient is underweight\")\n",
    "elif 18.5 <= bmi <= 24.9:\n",
    "    print(\"BMI indicates patient is within normal weight range\")\n",
    "elif 25 <= bmi <= 29.9:\n",
    "    print(\"BMI indicates patient is overweight\")\n",
    "else:\n",
    "    print(\"BMI indicates patient is obese\")"
   ]
  },
  {
   "cell_type": "code",
   "execution_count": null,
   "metadata": {},
   "outputs": [],
   "source": []
  }
 ],
 "metadata": {
  "anaconda-cloud": {},
  "kernelspec": {
   "display_name": "Python 3",
   "language": "python",
   "name": "python3"
  },
  "language_info": {
   "codemirror_mode": {
    "name": "ipython",
    "version": 3
   },
   "file_extension": ".py",
   "mimetype": "text/x-python",
   "name": "python",
   "nbconvert_exporter": "python",
   "pygments_lexer": "ipython3",
   "version": "3.7.3"
  },
  "toc": {
   "base_numbering": 1,
   "nav_menu": {},
   "number_sections": true,
   "sideBar": true,
   "skip_h1_title": false,
   "title_cell": "Table of Contents",
   "title_sidebar": "Contents",
   "toc_cell": false,
   "toc_position": {},
   "toc_section_display": true,
   "toc_window_display": true
  }
 },
 "nbformat": 4,
 "nbformat_minor": 1
}
